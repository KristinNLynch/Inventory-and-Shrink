{
 "cells": [
  {
   "cell_type": "markdown",
   "id": "bd4d693b",
   "metadata": {},
   "source": [
    "# Inventory and Shrink\n",
    "\n",
    "#### This is a sample on how to clean /format data to troubleshoot inventory and shrink processes and how to identify key issues. \n",
    "#### All the data has been taken from a mix of online sources, adapted and changed to demonstrate these steps, and does not currently represent any companies actual inventory data. "
   ]
  },
  {
   "cell_type": "code",
   "execution_count": 3,
   "id": "34d0f25e",
   "metadata": {},
   "outputs": [],
   "source": [
    "#Import libraries\n",
    "import pandas as pd\n",
    "import unicodecsv\n",
    "import matplotlib.pyplot as plt\n",
    "import numpy as np\n",
    "import datetime\n",
    "from pprint import pprint as pp\n",
    "\n",
    "%matplotlib inline"
   ]
  },
  {
   "cell_type": "code",
   "execution_count": 4,
   "id": "9edb2099",
   "metadata": {},
   "outputs": [],
   "source": [
    "#Update variable with the file name\n",
    "transactions_file = '/Users/knico/new-git-project/Inventory_Data.csv'\n",
    "customer_file = '/Users/knico/new-git-project/Customers.csv'\n",
    "shrink_report = '/Users/knico/new-git-project/shrink.csv'\n"
   ]
  },
  {
   "cell_type": "code",
   "execution_count": 5,
   "id": "efa70630",
   "metadata": {},
   "outputs": [
    {
     "name": "stdout",
     "output_type": "stream",
     "text": [
      "    Order Sale_Date      Type  Store_ID  Transaction_ID  SKU  Delivery  Sales  \\\n",
      "0  133429  2/2/2021  Delivery      1666             866  1TS       230    0.0   \n",
      "1  132970  2/3/2021  Delivery      4736             624  R6E       372    0.0   \n",
      "2  132685  2/4/2021  Delivery      6459             482  IEV       298    0.0   \n",
      "3  133327  2/5/2021  Delivery      3719             810  C8Z       466    0.0   \n",
      "4  133115  2/6/2021  Delivery      1253             708  8HU       360    0.0   \n",
      "\n",
      "   Sales_Amount  Inventory   Shrink  \n",
      "0         37.38        156  37.3695  \n",
      "1          2.06        253   1.1214  \n",
      "2          4.96         82 -11.4080  \n",
      "3          8.88        453   8.8695  \n",
      "4          2.76          8   0.2664  \n"
     ]
    }
   ],
   "source": [
    "# Convert to pandas dataframe and print a few lines.\n",
    "df = pd.read_csv(transactions_file)\n",
    "print(df.head())"
   ]
  },
  {
   "cell_type": "code",
   "execution_count": 6,
   "id": "285fb8b1",
   "metadata": {},
   "outputs": [
    {
     "name": "stdout",
     "output_type": "stream",
     "text": [
      "   Customer Number  Store number    Type  PBS  Group    DM   BU State Division\n",
      "0                1          1253  Retail  Yes     11  DM_1  412    NJ    North\n",
      "1                2          1666  Retail  Yes     11  DM_1  422    NY    North\n",
      "2                3          2065  Retail  Yes     11  DM_1  422    TX    South\n",
      "3                4          2116  Retail  Yes     11  DM_1  412    CA    South\n",
      "4                5          2547  Retail  Yes     11  DM_1  433    PA     East\n"
     ]
    }
   ],
   "source": [
    "# Convert the customers file to a dataframe\n",
    "cust = pd.read_csv(customer_file)\n",
    "print(cust.head())\n"
   ]
  },
  {
   "cell_type": "code",
   "execution_count": 7,
   "id": "9a9d7332",
   "metadata": {},
   "outputs": [
    {
     "name": "stdout",
     "output_type": "stream",
     "text": [
      "    Account_Number  Store_ID            Type  PBS  Group    DM   BU State  \\\n",
      "0                1      1253          Retail  Yes     11  DM_1  412    NJ   \n",
      "1                2      1666          Retail  Yes     11  DM_1  422    NY   \n",
      "2                3      2065          Retail  Yes     11  DM_1  422    TX   \n",
      "3                4      2116          Retail  Yes     11  DM_1  412    CA   \n",
      "4                5      2547          Retail  Yes     11  DM_1  433    PA   \n",
      "5                6      3071          Retail  Yes     11  DM_2  457    OH   \n",
      "6                7      3624          Retail  Yes     11  DM_2  457    VA   \n",
      "7                8      3686          Retail  Yes     10  DM_2  412    NJ   \n",
      "8                9      3719          Retail  Yes     10  DM_3  422    NY   \n",
      "9               10      3874       Warehouse  Yes     11  DM_4  422    TX   \n",
      "10              11      4736       Warehouse  Yes     11  DM_1  412    CA   \n",
      "11              12      4776       Warehouse  Yes     11  DM_1  433    PA   \n",
      "12              13      4921       Warehouse  Yes     11  DM_1  457    OH   \n",
      "13              14      5010       Warehouse   No     11  DM_2  457    VA   \n",
      "14              15      5058       Warehouse   No     11  DM_2  412    NJ   \n",
      "15              16      5541  Do not service   No     11  DM_2  422    NY   \n",
      "16              17      5599  Do not service   No     11  DM_3  422    TX   \n",
      "17              18      5780  Do not service   No     11  DM_4  412    CA   \n",
      "18              19       592          Retail   No     11  DM_1  433    PA   \n",
      "19              20      6044          Retail   No     11  DM_1  457    OH   \n",
      "20              21      6294          Retail   No     11  DM_1  457    VA   \n",
      "21              22      6450          Retail   No     11  DM_2  412    NJ   \n",
      "22              23      6459          Retail   No     11  DM_2  422    NY   \n",
      "23              24      6865          Retail   No     11  DM_2  422    TX   \n",
      "24              25      7548          Retail   No     11  DM_3  412    CA   \n",
      "25              26       822          Retail   No     11  DM_4  433    PA   \n",
      "26              27      8303          Retail   No     11  DM_1  457    OH   \n",
      "27              28      8566       Warehouse   No     11  DM_1  457    VA   \n",
      "28              29      9200       Warehouse  NaN     10  DM_1  412    NJ   \n",
      "29              30      9223       Warehouse  NaN     10  DM_2  422    NY   \n",
      "\n",
      "   Division  \n",
      "0     North  \n",
      "1     North  \n",
      "2     South  \n",
      "3     South  \n",
      "4      East  \n",
      "5      East  \n",
      "6      West  \n",
      "7      West  \n",
      "8     North  \n",
      "9     North  \n",
      "10    South  \n",
      "11    South  \n",
      "12     East  \n",
      "13     East  \n",
      "14     West  \n",
      "15     West  \n",
      "16    North  \n",
      "17    North  \n",
      "18    South  \n",
      "19    South  \n",
      "20     East  \n",
      "21     East  \n",
      "22     West  \n",
      "23     West  \n",
      "24    North  \n",
      "25    North  \n",
      "26    South  \n",
      "27    South  \n",
      "28     East  \n",
      "29     East  \n"
     ]
    }
   ],
   "source": [
    "#Rename columns\n",
    "# This is a placeholder in case any columns need to be renamed.\n",
    "cust = cust.rename(columns = {'Customer Number' : 'Account_Number', 'Store number': 'Store_ID'})\n",
    "print(cust)"
   ]
  },
  {
   "cell_type": "markdown",
   "id": "af0f908d",
   "metadata": {},
   "source": [
    "# Section 1 Clean Up"
   ]
  },
  {
   "cell_type": "markdown",
   "id": "b54f7f8c",
   "metadata": {},
   "source": [
    "## A: Error Reports\n",
    "#### Check the error reports and clean up any errors, close any pending transactions and ensure everything is correct before proceeding. Missing deliveries could cause negative shrink, while missing sales would increase shrink.\n",
    "\n",
    "## B: RAIL (Rolling Action Item List)\n",
    "### Add above and any other items that come up in the analysis to the RAIL."
   ]
  },
  {
   "cell_type": "markdown",
   "id": "9f4d95a5",
   "metadata": {},
   "source": [
    "# Section 2 History and Baselines"
   ]
  },
  {
   "cell_type": "markdown",
   "id": "ae11be2d",
   "metadata": {},
   "source": [
    "## A: History\n",
    "#### Screen shots the previous period and current period for comparison. "
   ]
  },
  {
   "cell_type": "markdown",
   "id": "a156a3ee",
   "metadata": {},
   "source": [
    "## B: Baselines for the Period\n",
    "#### Box plots for the period to see the stats. "
   ]
  },
  {
   "cell_type": "code",
   "execution_count": 8,
   "id": "b37034be",
   "metadata": {},
   "outputs": [
    {
     "name": "stdout",
     "output_type": "stream",
     "text": [
      "<class 'pandas.core.frame.DataFrame'>\n",
      "RangeIndex: 133635 entries, 0 to 133634\n",
      "Data columns (total 11 columns):\n",
      " #   Column          Non-Null Count   Dtype  \n",
      "---  ------          --------------   -----  \n",
      " 0   Order           133635 non-null  int64  \n",
      " 1   Sale_Date       133635 non-null  object \n",
      " 2   Type            133635 non-null  object \n",
      " 3   Store_ID        133635 non-null  int64  \n",
      " 4   Transaction_ID  133635 non-null  int64  \n",
      " 5   SKU             133635 non-null  object \n",
      " 6   Delivery        133635 non-null  int64  \n",
      " 7   Sales           133635 non-null  float64\n",
      " 8   Sales_Amount    133635 non-null  float64\n",
      " 9   Inventory       133635 non-null  int64  \n",
      " 10  Shrink          133635 non-null  float64\n",
      "dtypes: float64(3), int64(5), object(3)\n",
      "memory usage: 11.2+ MB\n"
     ]
    }
   ],
   "source": [
    "#Review data types\n",
    "df.info()"
   ]
  },
  {
   "cell_type": "code",
   "execution_count": 9,
   "id": "0cabb5d3",
   "metadata": {},
   "outputs": [],
   "source": [
    "def drop_columns(drop_list, data_frame):\n",
    "    \"\"\"Function will drop any unwanted columns\"\"\"\n",
    "    for col_name in drop_list:\n",
    "        if col_name in data_frame:\n",
    "            data_frame.drop(labels=col_name,axis=1 , inplace = True)\n",
    "            print(\"Column\", col_name, \" has been deleted\")\n",
    "        else: \n",
    "            print(col_name ,\"does not exist\")\n",
    "    "
   ]
  },
  {
   "cell_type": "code",
   "execution_count": 10,
   "id": "e2d7b6e6",
   "metadata": {},
   "outputs": [
    {
     "name": "stdout",
     "output_type": "stream",
     "text": [
      "Column Order  has been deleted\n",
      "Column Transaction_ID  has been deleted\n"
     ]
    }
   ],
   "source": [
    "# Define list of columns to drop and call the function.\n",
    "drop_list = ['Order','Transaction_ID']\n",
    "drop_columns(drop_list, df)"
   ]
  },
  {
   "cell_type": "code",
   "execution_count": 11,
   "id": "0765dae1",
   "metadata": {},
   "outputs": [],
   "source": [
    "\n",
    "def change_var_type(col_as_string, ctype):\n",
    "    \"\"\"This function will convert data types\"\"\"\n",
    "    if ctype == 'string':\n",
    "        #new_type = df[col_as_string].astype(\"|S\")\n",
    "        new_type = df[col_as_string].astype(\"string\")\n",
    "    if ctype == 'number':\n",
    "        new_type = df[col_as_string].astype(int)\n",
    "    if ctype == 'date':\n",
    "       new_type = pd.to_datetime(df[col_as_string])\n",
    "     \n",
    "    return new_type"
   ]
  },
  {
   "cell_type": "code",
   "execution_count": 12,
   "id": "e6acb029",
   "metadata": {},
   "outputs": [],
   "source": [
    "# Call the function to convert the data types. Convert to datetime.\n",
    "df['Store_ID'] = change_var_type('Store_ID','string')\n",
    "\n",
    "df['Sale_Date'] = change_var_type('Sale_Date', 'date')"
   ]
  },
  {
   "cell_type": "code",
   "execution_count": 13,
   "id": "e5adce01",
   "metadata": {},
   "outputs": [
    {
     "name": "stderr",
     "output_type": "stream",
     "text": [
      "C:\\Users\\knico\\AppData\\Local\\Temp/ipykernel_19716/2884002236.py:1: FutureWarning: Treating datetime data as categorical rather than numeric in `.describe` is deprecated and will be removed in a future version of pandas. Specify `datetime_is_numeric=True` to silence this warning and adopt the future behavior now.\n",
      "  df.describe(include='all')\n"
     ]
    },
    {
     "data": {
      "text/html": [
       "<div>\n",
       "<style scoped>\n",
       "    .dataframe tbody tr th:only-of-type {\n",
       "        vertical-align: middle;\n",
       "    }\n",
       "\n",
       "    .dataframe tbody tr th {\n",
       "        vertical-align: top;\n",
       "    }\n",
       "\n",
       "    .dataframe thead th {\n",
       "        text-align: right;\n",
       "    }\n",
       "</style>\n",
       "<table border=\"1\" class=\"dataframe\">\n",
       "  <thead>\n",
       "    <tr style=\"text-align: right;\">\n",
       "      <th></th>\n",
       "      <th>Sale_Date</th>\n",
       "      <th>Type</th>\n",
       "      <th>Store_ID</th>\n",
       "      <th>SKU</th>\n",
       "      <th>Delivery</th>\n",
       "      <th>Sales</th>\n",
       "      <th>Sales_Amount</th>\n",
       "      <th>Inventory</th>\n",
       "      <th>Shrink</th>\n",
       "    </tr>\n",
       "  </thead>\n",
       "  <tbody>\n",
       "    <tr>\n",
       "      <th>count</th>\n",
       "      <td>133635</td>\n",
       "      <td>133635</td>\n",
       "      <td>133635</td>\n",
       "      <td>133635</td>\n",
       "      <td>133635.000000</td>\n",
       "      <td>133635.000000</td>\n",
       "      <td>133635.000000</td>\n",
       "      <td>133635.000000</td>\n",
       "      <td>133635.000000</td>\n",
       "    </tr>\n",
       "    <tr>\n",
       "      <th>unique</th>\n",
       "      <td>365</td>\n",
       "      <td>2</td>\n",
       "      <td>30</td>\n",
       "      <td>187</td>\n",
       "      <td>NaN</td>\n",
       "      <td>NaN</td>\n",
       "      <td>NaN</td>\n",
       "      <td>NaN</td>\n",
       "      <td>NaN</td>\n",
       "    </tr>\n",
       "    <tr>\n",
       "      <th>top</th>\n",
       "      <td>2021-07-28 00:00:00</td>\n",
       "      <td>Sale</td>\n",
       "      <td>1253</td>\n",
       "      <td>N8U</td>\n",
       "      <td>NaN</td>\n",
       "      <td>NaN</td>\n",
       "      <td>NaN</td>\n",
       "      <td>NaN</td>\n",
       "      <td>NaN</td>\n",
       "    </tr>\n",
       "    <tr>\n",
       "      <th>freq</th>\n",
       "      <td>415</td>\n",
       "      <td>131706</td>\n",
       "      <td>13636</td>\n",
       "      <td>11088</td>\n",
       "      <td>NaN</td>\n",
       "      <td>NaN</td>\n",
       "      <td>NaN</td>\n",
       "      <td>NaN</td>\n",
       "      <td>NaN</td>\n",
       "    </tr>\n",
       "    <tr>\n",
       "      <th>first</th>\n",
       "      <td>2021-01-01 00:00:00</td>\n",
       "      <td>NaN</td>\n",
       "      <td>NaN</td>\n",
       "      <td>NaN</td>\n",
       "      <td>NaN</td>\n",
       "      <td>NaN</td>\n",
       "      <td>NaN</td>\n",
       "      <td>NaN</td>\n",
       "      <td>NaN</td>\n",
       "    </tr>\n",
       "    <tr>\n",
       "      <th>last</th>\n",
       "      <td>2021-12-31 00:00:00</td>\n",
       "      <td>NaN</td>\n",
       "      <td>NaN</td>\n",
       "      <td>NaN</td>\n",
       "      <td>NaN</td>\n",
       "      <td>NaN</td>\n",
       "      <td>NaN</td>\n",
       "      <td>NaN</td>\n",
       "      <td>NaN</td>\n",
       "    </tr>\n",
       "    <tr>\n",
       "      <th>mean</th>\n",
       "      <td>NaN</td>\n",
       "      <td>NaN</td>\n",
       "      <td>NaN</td>\n",
       "      <td>NaN</td>\n",
       "      <td>5.714349</td>\n",
       "      <td>1.463871</td>\n",
       "      <td>11.947653</td>\n",
       "      <td>2.796805</td>\n",
       "      <td>-4.968134</td>\n",
       "    </tr>\n",
       "    <tr>\n",
       "      <th>std</th>\n",
       "      <td>NaN</td>\n",
       "      <td>NaN</td>\n",
       "      <td>NaN</td>\n",
       "      <td>NaN</td>\n",
       "      <td>49.294191</td>\n",
       "      <td>3.848695</td>\n",
       "      <td>19.306320</td>\n",
       "      <td>28.038712</td>\n",
       "      <td>31.972832</td>\n",
       "    </tr>\n",
       "    <tr>\n",
       "      <th>min</th>\n",
       "      <td>NaN</td>\n",
       "      <td>NaN</td>\n",
       "      <td>NaN</td>\n",
       "      <td>NaN</td>\n",
       "      <td>0.000000</td>\n",
       "      <td>0.000000</td>\n",
       "      <td>0.020000</td>\n",
       "      <td>0.000000</td>\n",
       "      <td>-1162.857000</td>\n",
       "    </tr>\n",
       "    <tr>\n",
       "      <th>25%</th>\n",
       "      <td>NaN</td>\n",
       "      <td>NaN</td>\n",
       "      <td>NaN</td>\n",
       "      <td>NaN</td>\n",
       "      <td>0.000000</td>\n",
       "      <td>1.000000</td>\n",
       "      <td>4.230000</td>\n",
       "      <td>0.000000</td>\n",
       "      <td>-9.729000</td>\n",
       "    </tr>\n",
       "    <tr>\n",
       "      <th>50%</th>\n",
       "      <td>NaN</td>\n",
       "      <td>NaN</td>\n",
       "      <td>NaN</td>\n",
       "      <td>NaN</td>\n",
       "      <td>0.000000</td>\n",
       "      <td>1.000000</td>\n",
       "      <td>6.920000</td>\n",
       "      <td>0.000000</td>\n",
       "      <td>0.206400</td>\n",
       "    </tr>\n",
       "    <tr>\n",
       "      <th>75%</th>\n",
       "      <td>NaN</td>\n",
       "      <td>NaN</td>\n",
       "      <td>NaN</td>\n",
       "      <td>NaN</td>\n",
       "      <td>0.000000</td>\n",
       "      <td>1.000000</td>\n",
       "      <td>12.320000</td>\n",
       "      <td>0.000000</td>\n",
       "      <td>4.279500</td>\n",
       "    </tr>\n",
       "    <tr>\n",
       "      <th>max</th>\n",
       "      <td>NaN</td>\n",
       "      <td>NaN</td>\n",
       "      <td>NaN</td>\n",
       "      <td>NaN</td>\n",
       "      <td>1000.000000</td>\n",
       "      <td>400.000000</td>\n",
       "      <td>707.730000</td>\n",
       "      <td>947.000000</td>\n",
       "      <td>707.719500</td>\n",
       "    </tr>\n",
       "  </tbody>\n",
       "</table>\n",
       "</div>"
      ],
      "text/plain": [
       "                  Sale_Date    Type Store_ID     SKU       Delivery  \\\n",
       "count                133635  133635   133635  133635  133635.000000   \n",
       "unique                  365       2       30     187            NaN   \n",
       "top     2021-07-28 00:00:00    Sale     1253     N8U            NaN   \n",
       "freq                    415  131706    13636   11088            NaN   \n",
       "first   2021-01-01 00:00:00     NaN      NaN     NaN            NaN   \n",
       "last    2021-12-31 00:00:00     NaN      NaN     NaN            NaN   \n",
       "mean                    NaN     NaN      NaN     NaN       5.714349   \n",
       "std                     NaN     NaN      NaN     NaN      49.294191   \n",
       "min                     NaN     NaN      NaN     NaN       0.000000   \n",
       "25%                     NaN     NaN      NaN     NaN       0.000000   \n",
       "50%                     NaN     NaN      NaN     NaN       0.000000   \n",
       "75%                     NaN     NaN      NaN     NaN       0.000000   \n",
       "max                     NaN     NaN      NaN     NaN    1000.000000   \n",
       "\n",
       "                Sales   Sales_Amount      Inventory         Shrink  \n",
       "count   133635.000000  133635.000000  133635.000000  133635.000000  \n",
       "unique            NaN            NaN            NaN            NaN  \n",
       "top               NaN            NaN            NaN            NaN  \n",
       "freq              NaN            NaN            NaN            NaN  \n",
       "first             NaN            NaN            NaN            NaN  \n",
       "last              NaN            NaN            NaN            NaN  \n",
       "mean         1.463871      11.947653       2.796805      -4.968134  \n",
       "std          3.848695      19.306320      28.038712      31.972832  \n",
       "min          0.000000       0.020000       0.000000   -1162.857000  \n",
       "25%          1.000000       4.230000       0.000000      -9.729000  \n",
       "50%          1.000000       6.920000       0.000000       0.206400  \n",
       "75%          1.000000      12.320000       0.000000       4.279500  \n",
       "max        400.000000     707.730000     947.000000     707.719500  "
      ]
     },
     "execution_count": 13,
     "metadata": {},
     "output_type": "execute_result"
    }
   ],
   "source": [
    "df.describe(include='all')"
   ]
  },
  {
   "cell_type": "code",
   "execution_count": 14,
   "id": "4d0d54bd",
   "metadata": {},
   "outputs": [
    {
     "name": "stdout",
     "output_type": "stream",
     "text": [
      "Store_ID\n",
      "1253    162224.19\n",
      "1666     65985.15\n",
      "2065     32484.37\n",
      "2116     61614.45\n",
      "2547     32720.51\n",
      "3071     66979.57\n",
      "3624     32470.94\n",
      "3686     31406.65\n",
      "3719     32253.04\n",
      "3874     63209.39\n",
      "4736     99475.75\n",
      "4776     33977.25\n",
      "4921     31312.84\n",
      "5010     34017.36\n",
      "5058     31949.58\n",
      "5541     63695.54\n",
      "5599     65516.98\n",
      "5780     32727.94\n",
      "592      65745.46\n",
      "6044     65677.75\n",
      "6294     98304.06\n",
      "6450     32469.71\n",
      "6459     65061.79\n",
      "6865     31828.48\n",
      "7548     65768.94\n",
      "822      34053.33\n",
      "8303     33195.44\n",
      "8566     31618.03\n",
      "9200     34124.90\n",
      "9223     64755.21\n",
      "Name: Sales_Amount, dtype: float64\n"
     ]
    }
   ],
   "source": [
    "#Add up the Sales by Location\n",
    "\n",
    "period_pivot = df.groupby(['Store_ID']).sum()['Sales_Amount']\n",
    "print(period_pivot)"
   ]
  },
  {
   "cell_type": "code",
   "execution_count": 15,
   "id": "864408a1",
   "metadata": {
    "scrolled": true
   },
   "outputs": [
    {
     "name": "stdout",
     "output_type": "stream",
     "text": [
      "          Delivery  Inventory      Sales  Sales_Amount      Shrink\n",
      "Store_ID                                                          \n",
      "1253         76861      37665  18922.280     162224.19 -64197.0563\n",
      "1666         31625      16088   7974.630      65985.15 -26757.1809\n",
      "2065         14783       7907   4007.500      32484.37 -15815.2563\n",
      "2116         30509      15671   8092.920      61614.45 -25134.2250\n",
      "2547         16766       7674   4025.160      32720.51 -14310.5020\n",
      "3071         29068      15195   7984.580      66979.57 -27353.2227\n",
      "3624         16100       8836   3829.720      32470.94 -14117.9682\n",
      "3686         16186       8606   4180.160      31406.65 -10053.1767\n",
      "3719         15399       7692   4278.760      32253.04 -12747.8651\n",
      "3874         31844      15648   8407.890      63209.39 -26689.6147\n",
      "4736         46947      21928  12554.240      99475.75 -44223.0490\n",
      "4776         16701       8429   4156.800      33977.25 -13718.7583\n",
      "4921         16312       7768   4152.750      31312.84 -16853.5238\n",
      "5010         16569       6807   3981.320      34017.36 -12437.4467\n",
      "5058         16309       8118   3924.860      31949.58 -14158.5199\n",
      "5541         30646      13685   7638.356      63695.54 -26457.6170\n",
      "5599         31169      15745   8511.240      65516.98 -24450.4319\n",
      "5780         14922       7987   3901.770      32727.94 -13697.6121\n",
      "592          32271      16623   7821.630      65745.46 -28220.0828\n",
      "6044         32280      14630   7585.670      65677.75 -29037.3534\n",
      "6294         46627      23200  11867.710      98304.06 -38209.4089\n",
      "6450         16488       7494   4025.970      32469.71 -13045.6151\n",
      "6459         29190      14244   7682.170      65061.79 -28141.0641\n",
      "6865         17402       9629   3711.830      31828.48 -12796.4208\n",
      "7548         30119      12026   8069.310      65768.94 -31347.5835\n",
      "822          14463       7324   3987.500      34053.33 -12584.6090\n",
      "8303         16073       7540   3981.226      33195.44 -12312.5777\n",
      "8566         14108       7050   3946.990      31618.03 -13715.8141\n",
      "9200         15398       7659   4426.220      34124.90 -14109.9975\n",
      "9223         30502      14883   7993.267      64755.21 -27223.0523\n"
     ]
    }
   ],
   "source": [
    "# Pivot table of the total amounts\n",
    "period_pivot=pd.pivot_table(df, index=['Store_ID'],values=['Delivery','Sales','Inventory','Shrink','Sales_Amount'],aggfunc=np.sum)\n",
    "print(period_pivot)"
   ]
  },
  {
   "cell_type": "code",
   "execution_count": 16,
   "id": "b2100273",
   "metadata": {},
   "outputs": [
    {
     "data": {
      "text/html": [
       "<div>\n",
       "<style scoped>\n",
       "    .dataframe tbody tr th:only-of-type {\n",
       "        vertical-align: middle;\n",
       "    }\n",
       "\n",
       "    .dataframe tbody tr th {\n",
       "        vertical-align: top;\n",
       "    }\n",
       "\n",
       "    .dataframe thead th {\n",
       "        text-align: right;\n",
       "    }\n",
       "</style>\n",
       "<table border=\"1\" class=\"dataframe\">\n",
       "  <thead>\n",
       "    <tr style=\"text-align: right;\">\n",
       "      <th></th>\n",
       "      <th>Delivery</th>\n",
       "      <th>Inventory</th>\n",
       "      <th>Sales</th>\n",
       "      <th>Sales_Amount</th>\n",
       "      <th>Shrink</th>\n",
       "    </tr>\n",
       "  </thead>\n",
       "  <tbody>\n",
       "    <tr>\n",
       "      <th>count</th>\n",
       "      <td>30.000000</td>\n",
       "      <td>30.000000</td>\n",
       "      <td>30.00000</td>\n",
       "      <td>30.000000</td>\n",
       "      <td>30.000000</td>\n",
       "    </tr>\n",
       "    <tr>\n",
       "      <th>mean</th>\n",
       "      <td>25454.566667</td>\n",
       "      <td>12458.366667</td>\n",
       "      <td>6520.81430</td>\n",
       "      <td>53220.820000</td>\n",
       "      <td>-22130.553527</td>\n",
       "    </tr>\n",
       "    <tr>\n",
       "      <th>std</th>\n",
       "      <td>13602.431590</td>\n",
       "      <td>6601.952859</td>\n",
       "      <td>3436.90914</td>\n",
       "      <td>28980.167005</td>\n",
       "      <td>11845.666594</td>\n",
       "    </tr>\n",
       "    <tr>\n",
       "      <th>min</th>\n",
       "      <td>14108.000000</td>\n",
       "      <td>6807.000000</td>\n",
       "      <td>3711.83000</td>\n",
       "      <td>31312.840000</td>\n",
       "      <td>-64197.056300</td>\n",
       "    </tr>\n",
       "    <tr>\n",
       "      <th>25%</th>\n",
       "      <td>16121.500000</td>\n",
       "      <td>7711.000000</td>\n",
       "      <td>3992.50000</td>\n",
       "      <td>32474.297500</td>\n",
       "      <td>-27320.680100</td>\n",
       "    </tr>\n",
       "    <tr>\n",
       "      <th>50%</th>\n",
       "      <td>17084.000000</td>\n",
       "      <td>9232.500000</td>\n",
       "      <td>4352.49000</td>\n",
       "      <td>34089.115000</td>\n",
       "      <td>-16334.390050</td>\n",
       "    </tr>\n",
       "    <tr>\n",
       "      <th>75%</th>\n",
       "      <td>31038.250000</td>\n",
       "      <td>15534.750000</td>\n",
       "      <td>7991.09525</td>\n",
       "      <td>65637.557500</td>\n",
       "      <td>-13702.162600</td>\n",
       "    </tr>\n",
       "    <tr>\n",
       "      <th>max</th>\n",
       "      <td>76861.000000</td>\n",
       "      <td>37665.000000</td>\n",
       "      <td>18922.28000</td>\n",
       "      <td>162224.190000</td>\n",
       "      <td>-10053.176700</td>\n",
       "    </tr>\n",
       "  </tbody>\n",
       "</table>\n",
       "</div>"
      ],
      "text/plain": [
       "           Delivery     Inventory        Sales   Sales_Amount        Shrink\n",
       "count     30.000000     30.000000     30.00000      30.000000     30.000000\n",
       "mean   25454.566667  12458.366667   6520.81430   53220.820000 -22130.553527\n",
       "std    13602.431590   6601.952859   3436.90914   28980.167005  11845.666594\n",
       "min    14108.000000   6807.000000   3711.83000   31312.840000 -64197.056300\n",
       "25%    16121.500000   7711.000000   3992.50000   32474.297500 -27320.680100\n",
       "50%    17084.000000   9232.500000   4352.49000   34089.115000 -16334.390050\n",
       "75%    31038.250000  15534.750000   7991.09525   65637.557500 -13702.162600\n",
       "max    76861.000000  37665.000000  18922.28000  162224.190000 -10053.176700"
      ]
     },
     "execution_count": 16,
     "metadata": {},
     "output_type": "execute_result"
    }
   ],
   "source": [
    "period_pivot.describe()"
   ]
  },
  {
   "cell_type": "code",
   "execution_count": 17,
   "id": "bb7fa3f4",
   "metadata": {},
   "outputs": [
    {
     "name": "stdout",
     "output_type": "stream",
     "text": [
      "whiskers: [array([16121.5, 14108. ]), array([31038.25, 46947.  ]), array([7711., 6807.]), array([15534.75, 23200.  ]), array([3992.5 , 3711.83]), array([ 7991.09525, 12554.24   ]), array([32474.2975, 31312.84  ]), array([65637.5575, 99475.75  ]), array([-27320.6801, -44223.049 ]), array([-13702.1626, -10053.1767])]\n",
      "\n",
      "caps: [array([14108., 14108.]), array([46947., 46947.]), array([6807., 6807.]), array([23200., 23200.]), array([3711.83, 3711.83]), array([12554.24, 12554.24]), array([31312.84, 31312.84]), array([99475.75, 99475.75]), array([-44223.049, -44223.049]), array([-10053.1767, -10053.1767])]\n",
      "\n",
      "boxes: [array([16121.5 , 16121.5 , 31038.25, 31038.25, 16121.5 ]), array([ 7711.  ,  7711.  , 15534.75, 15534.75,  7711.  ]), array([3992.5    , 3992.5    , 7991.09525, 7991.09525, 3992.5    ]), array([32474.2975, 32474.2975, 65637.5575, 65637.5575, 32474.2975]), array([-27320.6801, -27320.6801, -13702.1626, -13702.1626, -27320.6801])]\n",
      "\n",
      "medians: [array([17084., 17084.]), array([9232.5, 9232.5]), array([4352.49, 4352.49]), array([34089.115, 34089.115]), array([-16334.39005, -16334.39005])]\n",
      "\n",
      "fliers: [array([76861.]), array([37665.]), array([18922.28]), array([162224.19]), array([-64197.0563])]\n",
      "\n",
      "means: [array([25454.56666667]), array([12458.36666667]), array([6520.8143]), array([53220.82]), array([-22130.55352667])]\n",
      "\n"
     ]
    },
    {
     "data": {
      "image/png": "[encoded data removed]",
      "text/plain": [
       "<Figure size 432x288 with 1 Axes>"
      ]
     },
     "metadata": {
      "needs_background": "light"
     },
     "output_type": "display_data"
    }
   ],
   "source": [
    "sales_bp = plt.boxplot(period_pivot, showmeans= True)\n",
    "for key in sales_bp:\n",
    "    print(f'{key}: {[item.get_ydata() for item in sales_bp[key]]}\\n')"
   ]
  },
  {
   "cell_type": "code",
   "execution_count": 18,
   "id": "1c5f42fe",
   "metadata": {},
   "outputs": [],
   "source": [
    "# Define the variables for outliers\n",
    "# Deliveries cap\n",
    "Delivery_capA = 14108\n",
    "Delivery_capB = 46947\n",
    "\n",
    "# Inventory Cap\n",
    "Inv_capA  = 6807\n",
    "Inv_capB = 23200\n",
    "\n",
    "# Sales Cap\n",
    "Sales_capA = 3248\n",
    "Sales_capB = 12144\n"
   ]
  },
  {
   "cell_type": "code",
   "execution_count": 19,
   "id": "c800fdb7",
   "metadata": {},
   "outputs": [
    {
     "name": "stdout",
     "output_type": "stream",
     "text": [
      "Delivery\n",
      "Inventory\n",
      "Sales\n",
      "Sales_Amount\n",
      "Shrink\n"
     ]
    }
   ],
   "source": [
    "#Print the outliers:\n",
    "for store in period_pivot:\n",
    "    print(store)"
   ]
  },
  {
   "cell_type": "code",
   "execution_count": 20,
   "id": "d6cc6995",
   "metadata": {},
   "outputs": [],
   "source": [
    "#High Outliers\n",
    "D_outliers = period_pivot[period_pivot['Delivery'] > Delivery_capB].copy() \n",
    "S_outliers = (period_pivot[period_pivot['Sales'] > Sales_capB].copy())\n",
    "I_outliers = (period_pivot[period_pivot['Inventory'] > Inv_capB].copy())"
   ]
  },
  {
   "cell_type": "code",
   "execution_count": 21,
   "id": "d0427ca1",
   "metadata": {},
   "outputs": [
    {
     "name": "stdout",
     "output_type": "stream",
     "text": [
      "Delivery Outliers:            Delivery  Inventory     Sales  Sales_Amount      Shrink\n",
      "Store_ID                                                         \n",
      "1253         76861      37665  18922.28     162224.19 -64197.0563\n"
     ]
    }
   ],
   "source": [
    "print(\"Delivery Outliers: \",D_outliers)\n"
   ]
  },
  {
   "cell_type": "code",
   "execution_count": 22,
   "id": "f00e03d8",
   "metadata": {},
   "outputs": [
    {
     "name": "stdout",
     "output_type": "stream",
     "text": [
      "          Delivery  Inventory     Sales  Sales_Amount      Shrink\n",
      "Store_ID                                                         \n",
      "1253         76861      37665  18922.28     162224.19 -64197.0563\n",
      "4736         46947      21928  12554.24      99475.75 -44223.0490\n"
     ]
    }
   ],
   "source": [
    "print(S_outliers)"
   ]
  },
  {
   "cell_type": "code",
   "execution_count": 23,
   "id": "e024e9c7",
   "metadata": {},
   "outputs": [
    {
     "name": "stdout",
     "output_type": "stream",
     "text": [
      "          Delivery  Inventory     Sales  Sales_Amount      Shrink\n",
      "Store_ID                                                         \n",
      "1253         76861      37665  18922.28     162224.19 -64197.0563\n"
     ]
    }
   ],
   "source": [
    "print(I_outliers)"
   ]
  },
  {
   "cell_type": "code",
   "execution_count": 24,
   "id": "631c25f9",
   "metadata": {},
   "outputs": [
    {
     "name": "stdout",
     "output_type": "stream",
     "text": [
      "Empty DataFrame\n",
      "Columns: [Delivery, Inventory, Sales, Sales_Amount, Shrink]\n",
      "Index: []\n"
     ]
    }
   ],
   "source": [
    "# Low Outliers in deliveries\n",
    "low_D = period_pivot[period_pivot['Delivery'] < Delivery_capA].copy() \n",
    "print(low_D)"
   ]
  },
  {
   "cell_type": "code",
   "execution_count": 25,
   "id": "2d4363fa",
   "metadata": {},
   "outputs": [
    {
     "name": "stdout",
     "output_type": "stream",
     "text": [
      "Empty DataFrame\n",
      "Columns: [Delivery, Inventory, Sales, Sales_Amount, Shrink]\n",
      "Index: []\n"
     ]
    }
   ],
   "source": [
    "#Low outliers in sales\n",
    "low_S = period_pivot[period_pivot['Sales'] < Sales_capA].copy()\n",
    "print(low_S)"
   ]
  },
  {
   "cell_type": "code",
   "execution_count": 26,
   "id": "e1e5cd1a",
   "metadata": {},
   "outputs": [
    {
     "name": "stdout",
     "output_type": "stream",
     "text": [
      "Empty DataFrame\n",
      "Columns: [Delivery, Inventory, Sales, Sales_Amount, Shrink]\n",
      "Index: []\n"
     ]
    }
   ],
   "source": [
    "#Low outliers in Inventory\n",
    "low_I = period_pivot[period_pivot['Inventory'] < Inv_capA].copy()\n",
    "print(low_I)"
   ]
  },
  {
   "cell_type": "markdown",
   "id": "96a91443",
   "metadata": {},
   "source": [
    "## C: Box Plots by Occurance\n",
    "#### Find stats and make box plots by the occurance."
   ]
  },
  {
   "cell_type": "code",
   "execution_count": 27,
   "id": "4dcc56e5",
   "metadata": {
    "scrolled": true
   },
   "outputs": [],
   "source": [
    "#split the data frame into Deliveries & Inventory, and Sales.\n",
    "D_Occurence = df[df['Type'] == 'Delivery' ].copy()\n",
    "S_Occurence = df[df['Type'] == 'Sale'].copy()"
   ]
  },
  {
   "cell_type": "code",
   "execution_count": 28,
   "id": "99527116",
   "metadata": {},
   "outputs": [
    {
     "name": "stderr",
     "output_type": "stream",
     "text": [
      "C:\\Users\\knico\\AppData\\Local\\Temp/ipykernel_19716/2695871421.py:2: FutureWarning: Treating datetime data as categorical rather than numeric in `.describe` is deprecated and will be removed in a future version of pandas. Specify `datetime_is_numeric=True` to silence this warning and adopt the future behavior now.\n",
      "  D_Occurence.describe(include = 'all')\n"
     ]
    },
    {
     "data": {
      "text/html": [
       "<div>\n",
       "<style scoped>\n",
       "    .dataframe tbody tr th:only-of-type {\n",
       "        vertical-align: middle;\n",
       "    }\n",
       "\n",
       "    .dataframe tbody tr th {\n",
       "        vertical-align: top;\n",
       "    }\n",
       "\n",
       "    .dataframe thead th {\n",
       "        text-align: right;\n",
       "    }\n",
       "</style>\n",
       "<table border=\"1\" class=\"dataframe\">\n",
       "  <thead>\n",
       "    <tr style=\"text-align: right;\">\n",
       "      <th></th>\n",
       "      <th>Sale_Date</th>\n",
       "      <th>Type</th>\n",
       "      <th>Store_ID</th>\n",
       "      <th>SKU</th>\n",
       "      <th>Delivery</th>\n",
       "      <th>Sales</th>\n",
       "      <th>Sales_Amount</th>\n",
       "      <th>Inventory</th>\n",
       "      <th>Shrink</th>\n",
       "    </tr>\n",
       "  </thead>\n",
       "  <tbody>\n",
       "    <tr>\n",
       "      <th>count</th>\n",
       "      <td>1929</td>\n",
       "      <td>1929</td>\n",
       "      <td>1929</td>\n",
       "      <td>1929</td>\n",
       "      <td>1929.000000</td>\n",
       "      <td>1929.0</td>\n",
       "      <td>1929.000000</td>\n",
       "      <td>1929.000000</td>\n",
       "      <td>1929.000000</td>\n",
       "    </tr>\n",
       "    <tr>\n",
       "      <th>unique</th>\n",
       "      <td>363</td>\n",
       "      <td>1</td>\n",
       "      <td>30</td>\n",
       "      <td>126</td>\n",
       "      <td>NaN</td>\n",
       "      <td>NaN</td>\n",
       "      <td>NaN</td>\n",
       "      <td>NaN</td>\n",
       "      <td>NaN</td>\n",
       "    </tr>\n",
       "    <tr>\n",
       "      <th>top</th>\n",
       "      <td>2021-01-14 00:00:00</td>\n",
       "      <td>Delivery</td>\n",
       "      <td>1253</td>\n",
       "      <td>N8U</td>\n",
       "      <td>NaN</td>\n",
       "      <td>NaN</td>\n",
       "      <td>NaN</td>\n",
       "      <td>NaN</td>\n",
       "      <td>NaN</td>\n",
       "    </tr>\n",
       "    <tr>\n",
       "      <th>freq</th>\n",
       "      <td>14</td>\n",
       "      <td>1929</td>\n",
       "      <td>196</td>\n",
       "      <td>175</td>\n",
       "      <td>NaN</td>\n",
       "      <td>NaN</td>\n",
       "      <td>NaN</td>\n",
       "      <td>NaN</td>\n",
       "      <td>NaN</td>\n",
       "    </tr>\n",
       "    <tr>\n",
       "      <th>first</th>\n",
       "      <td>2021-01-01 00:00:00</td>\n",
       "      <td>NaN</td>\n",
       "      <td>NaN</td>\n",
       "      <td>NaN</td>\n",
       "      <td>NaN</td>\n",
       "      <td>NaN</td>\n",
       "      <td>NaN</td>\n",
       "      <td>NaN</td>\n",
       "      <td>NaN</td>\n",
       "    </tr>\n",
       "    <tr>\n",
       "      <th>last</th>\n",
       "      <td>2021-12-31 00:00:00</td>\n",
       "      <td>NaN</td>\n",
       "      <td>NaN</td>\n",
       "      <td>NaN</td>\n",
       "      <td>NaN</td>\n",
       "      <td>NaN</td>\n",
       "      <td>NaN</td>\n",
       "      <td>NaN</td>\n",
       "      <td>NaN</td>\n",
       "    </tr>\n",
       "    <tr>\n",
       "      <th>mean</th>\n",
       "      <td>NaN</td>\n",
       "      <td>NaN</td>\n",
       "      <td>NaN</td>\n",
       "      <td>NaN</td>\n",
       "      <td>395.871954</td>\n",
       "      <td>0.0</td>\n",
       "      <td>9.635034</td>\n",
       "      <td>193.753758</td>\n",
       "      <td>-3.876518</td>\n",
       "    </tr>\n",
       "    <tr>\n",
       "      <th>std</th>\n",
       "      <td>NaN</td>\n",
       "      <td>NaN</td>\n",
       "      <td>NaN</td>\n",
       "      <td>NaN</td>\n",
       "      <td>117.857748</td>\n",
       "      <td>0.0</td>\n",
       "      <td>15.050076</td>\n",
       "      <td>132.186771</td>\n",
       "      <td>24.648017</td>\n",
       "    </tr>\n",
       "    <tr>\n",
       "      <th>min</th>\n",
       "      <td>NaN</td>\n",
       "      <td>NaN</td>\n",
       "      <td>NaN</td>\n",
       "      <td>NaN</td>\n",
       "      <td>5.000000</td>\n",
       "      <td>0.0</td>\n",
       "      <td>0.150000</td>\n",
       "      <td>0.000000</td>\n",
       "      <td>-566.881000</td>\n",
       "    </tr>\n",
       "    <tr>\n",
       "      <th>25%</th>\n",
       "      <td>NaN</td>\n",
       "      <td>NaN</td>\n",
       "      <td>NaN</td>\n",
       "      <td>NaN</td>\n",
       "      <td>296.000000</td>\n",
       "      <td>0.0</td>\n",
       "      <td>4.110000</td>\n",
       "      <td>88.000000</td>\n",
       "      <td>-9.338000</td>\n",
       "    </tr>\n",
       "    <tr>\n",
       "      <th>50%</th>\n",
       "      <td>NaN</td>\n",
       "      <td>NaN</td>\n",
       "      <td>NaN</td>\n",
       "      <td>NaN</td>\n",
       "      <td>391.000000</td>\n",
       "      <td>0.0</td>\n",
       "      <td>6.350000</td>\n",
       "      <td>177.000000</td>\n",
       "      <td>0.183600</td>\n",
       "    </tr>\n",
       "    <tr>\n",
       "      <th>75%</th>\n",
       "      <td>NaN</td>\n",
       "      <td>NaN</td>\n",
       "      <td>NaN</td>\n",
       "      <td>NaN</td>\n",
       "      <td>497.000000</td>\n",
       "      <td>0.0</td>\n",
       "      <td>10.230000</td>\n",
       "      <td>282.000000</td>\n",
       "      <td>4.179500</td>\n",
       "    </tr>\n",
       "    <tr>\n",
       "      <th>max</th>\n",
       "      <td>NaN</td>\n",
       "      <td>NaN</td>\n",
       "      <td>NaN</td>\n",
       "      <td>NaN</td>\n",
       "      <td>1000.000000</td>\n",
       "      <td>0.0</td>\n",
       "      <td>246.470000</td>\n",
       "      <td>947.000000</td>\n",
       "      <td>197.429500</td>\n",
       "    </tr>\n",
       "  </tbody>\n",
       "</table>\n",
       "</div>"
      ],
      "text/plain": [
       "                  Sale_Date      Type Store_ID   SKU     Delivery   Sales  \\\n",
       "count                  1929      1929     1929  1929  1929.000000  1929.0   \n",
       "unique                  363         1       30   126          NaN     NaN   \n",
       "top     2021-01-14 00:00:00  Delivery     1253   N8U          NaN     NaN   \n",
       "freq                     14      1929      196   175          NaN     NaN   \n",
       "first   2021-01-01 00:00:00       NaN      NaN   NaN          NaN     NaN   \n",
       "last    2021-12-31 00:00:00       NaN      NaN   NaN          NaN     NaN   \n",
       "mean                    NaN       NaN      NaN   NaN   395.871954     0.0   \n",
       "std                     NaN       NaN      NaN   NaN   117.857748     0.0   \n",
       "min                     NaN       NaN      NaN   NaN     5.000000     0.0   \n",
       "25%                     NaN       NaN      NaN   NaN   296.000000     0.0   \n",
       "50%                     NaN       NaN      NaN   NaN   391.000000     0.0   \n",
       "75%                     NaN       NaN      NaN   NaN   497.000000     0.0   \n",
       "max                     NaN       NaN      NaN   NaN  1000.000000     0.0   \n",
       "\n",
       "        Sales_Amount    Inventory       Shrink  \n",
       "count    1929.000000  1929.000000  1929.000000  \n",
       "unique           NaN          NaN          NaN  \n",
       "top              NaN          NaN          NaN  \n",
       "freq             NaN          NaN          NaN  \n",
       "first            NaN          NaN          NaN  \n",
       "last             NaN          NaN          NaN  \n",
       "mean        9.635034   193.753758    -3.876518  \n",
       "std        15.050076   132.186771    24.648017  \n",
       "min         0.150000     0.000000  -566.881000  \n",
       "25%         4.110000    88.000000    -9.338000  \n",
       "50%         6.350000   177.000000     0.183600  \n",
       "75%        10.230000   282.000000     4.179500  \n",
       "max       246.470000   947.000000   197.429500  "
      ]
     },
     "execution_count": 28,
     "metadata": {},
     "output_type": "execute_result"
    }
   ],
   "source": [
    "#Stats on the deliveries and inventory\n",
    "D_Occurence.describe(include = 'all')"
   ]
  },
  {
   "cell_type": "code",
   "execution_count": 29,
   "id": "6814bfa1",
   "metadata": {},
   "outputs": [
    {
     "name": "stderr",
     "output_type": "stream",
     "text": [
      "C:\\Users\\knico\\AppData\\Local\\Temp/ipykernel_19716/1593806960.py:2: FutureWarning: Treating datetime data as categorical rather than numeric in `.describe` is deprecated and will be removed in a future version of pandas. Specify `datetime_is_numeric=True` to silence this warning and adopt the future behavior now.\n",
      "  S_Occurence.describe(include= 'all')\n"
     ]
    },
    {
     "data": {
      "text/html": [
       "<div>\n",
       "<style scoped>\n",
       "    .dataframe tbody tr th:only-of-type {\n",
       "        vertical-align: middle;\n",
       "    }\n",
       "\n",
       "    .dataframe tbody tr th {\n",
       "        vertical-align: top;\n",
       "    }\n",
       "\n",
       "    .dataframe thead th {\n",
       "        text-align: right;\n",
       "    }\n",
       "</style>\n",
       "<table border=\"1\" class=\"dataframe\">\n",
       "  <thead>\n",
       "    <tr style=\"text-align: right;\">\n",
       "      <th></th>\n",
       "      <th>Sale_Date</th>\n",
       "      <th>Type</th>\n",
       "      <th>Store_ID</th>\n",
       "      <th>SKU</th>\n",
       "      <th>Delivery</th>\n",
       "      <th>Sales</th>\n",
       "      <th>Sales_Amount</th>\n",
       "      <th>Inventory</th>\n",
       "      <th>Shrink</th>\n",
       "    </tr>\n",
       "  </thead>\n",
       "  <tbody>\n",
       "    <tr>\n",
       "      <th>count</th>\n",
       "      <td>131706</td>\n",
       "      <td>131706</td>\n",
       "      <td>131706</td>\n",
       "      <td>131706</td>\n",
       "      <td>131706.0</td>\n",
       "      <td>131706.000000</td>\n",
       "      <td>131706.000000</td>\n",
       "      <td>131706.0</td>\n",
       "      <td>131706.000000</td>\n",
       "    </tr>\n",
       "    <tr>\n",
       "      <th>unique</th>\n",
       "      <td>365</td>\n",
       "      <td>1</td>\n",
       "      <td>30</td>\n",
       "      <td>187</td>\n",
       "      <td>NaN</td>\n",
       "      <td>NaN</td>\n",
       "      <td>NaN</td>\n",
       "      <td>NaN</td>\n",
       "      <td>NaN</td>\n",
       "    </tr>\n",
       "    <tr>\n",
       "      <th>top</th>\n",
       "      <td>2021-07-28 00:00:00</td>\n",
       "      <td>Sale</td>\n",
       "      <td>1253</td>\n",
       "      <td>N8U</td>\n",
       "      <td>NaN</td>\n",
       "      <td>NaN</td>\n",
       "      <td>NaN</td>\n",
       "      <td>NaN</td>\n",
       "      <td>NaN</td>\n",
       "    </tr>\n",
       "    <tr>\n",
       "      <th>freq</th>\n",
       "      <td>409</td>\n",
       "      <td>131706</td>\n",
       "      <td>13440</td>\n",
       "      <td>10913</td>\n",
       "      <td>NaN</td>\n",
       "      <td>NaN</td>\n",
       "      <td>NaN</td>\n",
       "      <td>NaN</td>\n",
       "      <td>NaN</td>\n",
       "    </tr>\n",
       "    <tr>\n",
       "      <th>first</th>\n",
       "      <td>2021-01-01 00:00:00</td>\n",
       "      <td>NaN</td>\n",
       "      <td>NaN</td>\n",
       "      <td>NaN</td>\n",
       "      <td>NaN</td>\n",
       "      <td>NaN</td>\n",
       "      <td>NaN</td>\n",
       "      <td>NaN</td>\n",
       "      <td>NaN</td>\n",
       "    </tr>\n",
       "    <tr>\n",
       "      <th>last</th>\n",
       "      <td>2021-12-31 00:00:00</td>\n",
       "      <td>NaN</td>\n",
       "      <td>NaN</td>\n",
       "      <td>NaN</td>\n",
       "      <td>NaN</td>\n",
       "      <td>NaN</td>\n",
       "      <td>NaN</td>\n",
       "      <td>NaN</td>\n",
       "      <td>NaN</td>\n",
       "    </tr>\n",
       "    <tr>\n",
       "      <th>mean</th>\n",
       "      <td>NaN</td>\n",
       "      <td>NaN</td>\n",
       "      <td>NaN</td>\n",
       "      <td>NaN</td>\n",
       "      <td>0.0</td>\n",
       "      <td>1.485311</td>\n",
       "      <td>11.981524</td>\n",
       "      <td>0.0</td>\n",
       "      <td>-4.984122</td>\n",
       "    </tr>\n",
       "    <tr>\n",
       "      <th>std</th>\n",
       "      <td>NaN</td>\n",
       "      <td>NaN</td>\n",
       "      <td>NaN</td>\n",
       "      <td>NaN</td>\n",
       "      <td>0.0</td>\n",
       "      <td>3.872667</td>\n",
       "      <td>19.359699</td>\n",
       "      <td>0.0</td>\n",
       "      <td>32.067480</td>\n",
       "    </tr>\n",
       "    <tr>\n",
       "      <th>min</th>\n",
       "      <td>NaN</td>\n",
       "      <td>NaN</td>\n",
       "      <td>NaN</td>\n",
       "      <td>NaN</td>\n",
       "      <td>0.0</td>\n",
       "      <td>0.010000</td>\n",
       "      <td>0.020000</td>\n",
       "      <td>0.0</td>\n",
       "      <td>-1162.857000</td>\n",
       "    </tr>\n",
       "    <tr>\n",
       "      <th>25%</th>\n",
       "      <td>NaN</td>\n",
       "      <td>NaN</td>\n",
       "      <td>NaN</td>\n",
       "      <td>NaN</td>\n",
       "      <td>0.0</td>\n",
       "      <td>1.000000</td>\n",
       "      <td>4.230000</td>\n",
       "      <td>0.0</td>\n",
       "      <td>-9.729000</td>\n",
       "    </tr>\n",
       "    <tr>\n",
       "      <th>50%</th>\n",
       "      <td>NaN</td>\n",
       "      <td>NaN</td>\n",
       "      <td>NaN</td>\n",
       "      <td>NaN</td>\n",
       "      <td>0.0</td>\n",
       "      <td>1.000000</td>\n",
       "      <td>6.920000</td>\n",
       "      <td>0.0</td>\n",
       "      <td>0.207600</td>\n",
       "    </tr>\n",
       "    <tr>\n",
       "      <th>75%</th>\n",
       "      <td>NaN</td>\n",
       "      <td>NaN</td>\n",
       "      <td>NaN</td>\n",
       "      <td>NaN</td>\n",
       "      <td>0.0</td>\n",
       "      <td>1.000000</td>\n",
       "      <td>12.330000</td>\n",
       "      <td>0.0</td>\n",
       "      <td>4.279500</td>\n",
       "    </tr>\n",
       "    <tr>\n",
       "      <th>max</th>\n",
       "      <td>NaN</td>\n",
       "      <td>NaN</td>\n",
       "      <td>NaN</td>\n",
       "      <td>NaN</td>\n",
       "      <td>0.0</td>\n",
       "      <td>400.000000</td>\n",
       "      <td>707.730000</td>\n",
       "      <td>0.0</td>\n",
       "      <td>707.719500</td>\n",
       "    </tr>\n",
       "  </tbody>\n",
       "</table>\n",
       "</div>"
      ],
      "text/plain": [
       "                  Sale_Date    Type Store_ID     SKU  Delivery          Sales  \\\n",
       "count                131706  131706   131706  131706  131706.0  131706.000000   \n",
       "unique                  365       1       30     187       NaN            NaN   \n",
       "top     2021-07-28 00:00:00    Sale     1253     N8U       NaN            NaN   \n",
       "freq                    409  131706    13440   10913       NaN            NaN   \n",
       "first   2021-01-01 00:00:00     NaN      NaN     NaN       NaN            NaN   \n",
       "last    2021-12-31 00:00:00     NaN      NaN     NaN       NaN            NaN   \n",
       "mean                    NaN     NaN      NaN     NaN       0.0       1.485311   \n",
       "std                     NaN     NaN      NaN     NaN       0.0       3.872667   \n",
       "min                     NaN     NaN      NaN     NaN       0.0       0.010000   \n",
       "25%                     NaN     NaN      NaN     NaN       0.0       1.000000   \n",
       "50%                     NaN     NaN      NaN     NaN       0.0       1.000000   \n",
       "75%                     NaN     NaN      NaN     NaN       0.0       1.000000   \n",
       "max                     NaN     NaN      NaN     NaN       0.0     400.000000   \n",
       "\n",
       "         Sales_Amount  Inventory         Shrink  \n",
       "count   131706.000000   131706.0  131706.000000  \n",
       "unique            NaN        NaN            NaN  \n",
       "top               NaN        NaN            NaN  \n",
       "freq              NaN        NaN            NaN  \n",
       "first             NaN        NaN            NaN  \n",
       "last              NaN        NaN            NaN  \n",
       "mean        11.981524        0.0      -4.984122  \n",
       "std         19.359699        0.0      32.067480  \n",
       "min          0.020000        0.0   -1162.857000  \n",
       "25%          4.230000        0.0      -9.729000  \n",
       "50%          6.920000        0.0       0.207600  \n",
       "75%         12.330000        0.0       4.279500  \n",
       "max        707.730000        0.0     707.719500  "
      ]
     },
     "execution_count": 29,
     "metadata": {},
     "output_type": "execute_result"
    }
   ],
   "source": [
    "# Stats on the Sales\n",
    "S_Occurence.describe(include= 'all')"
   ]
  },
  {
   "cell_type": "code",
   "execution_count": 30,
   "id": "eefd0085",
   "metadata": {},
   "outputs": [
    {
     "name": "stdout",
     "output_type": "stream",
     "text": [
      "Column Sale_Date  has been deleted\n",
      "Column Type  has been deleted\n",
      "Column Store_ID  has been deleted\n",
      "Column Sales_Amount  has been deleted\n",
      "Column Sales  has been deleted\n",
      "Column SKU  has been deleted\n"
     ]
    }
   ],
   "source": [
    "# Drop the columns not used in the box plot for deliveries and inventory.\n",
    "D_boxplot = D_Occurence\n",
    "drop_list = ['Sale_Date','Type','Store_ID','Sales_Amount','Sales','SKU']\n",
    "drop_columns(drop_list, D_boxplot)\n"
   ]
  },
  {
   "cell_type": "code",
   "execution_count": 31,
   "id": "31e4232c",
   "metadata": {},
   "outputs": [
    {
     "name": "stdout",
     "output_type": "stream",
     "text": [
      "Column Sale_Date  has been deleted\n",
      "Column Type  has been deleted\n",
      "Column Store_ID  has been deleted\n",
      "Column Sales_Amount  has been deleted\n",
      "Column Inventory  has been deleted\n",
      "Column Delivery  has been deleted\n",
      "Column SKU  has been deleted\n"
     ]
    }
   ],
   "source": [
    "#Drop the columns for the sales that won't be used in the box plot.\n",
    "S_boxplot = S_Occurence\n",
    "drop_list = ['Sale_Date', 'Type', 'Store_ID', 'Sales_Amount','Inventory', 'Delivery','SKU']\n",
    "drop_columns(drop_list, S_boxplot)"
   ]
  },
  {
   "cell_type": "code",
   "execution_count": 32,
   "id": "a1f150bd",
   "metadata": {},
   "outputs": [
    {
     "name": "stdout",
     "output_type": "stream",
     "text": [
      "whiskers: [array([296.,   5.]), array([497., 600.]), array([88.,  0.]), array([282., 571.]), array([ -9.338, -29.601]), array([ 4.1795, 22.4495])]\n",
      "\n",
      "caps: [array([5., 5.]), array([600., 600.]), array([0., 0.]), array([571., 571.]), array([-29.601, -29.601]), array([22.4495, 22.4495])]\n",
      "\n",
      "boxes: [array([296., 296., 497., 497., 296.]), array([ 88.,  88., 282., 282.,  88.]), array([-9.338 , -9.338 ,  4.1795,  4.1795, -9.338 ])]\n",
      "\n",
      "medians: [array([391., 391.]), array([177., 177.]), array([0.1836, 0.1836])]\n",
      "\n",
      "fliers: [array([1000.]), array([947., 589., 575.]), array([ -69.069 ,  -30.912 ,  -51.474 ,  -42.941 ,  -46.851 ,  -50.807 ,\n",
      "        -69.069 ,  -31.234 , -149.431 ,  -48.921 ,  -58.098 ,  -79.051 ,\n",
      "        -36.524 ,  -78.338 ,  -31.878 ,  -40.342 ,  -57.868 ,  -40.25  ,\n",
      "        -37.076 ,  -33.189 , -146.142 ,  -45.264 , -126.707 ,  -33.672 ,\n",
      "        -69.    ,  -37.26  ,  -44.712 ,  -48.369 ,  -57.339 , -204.447 ,\n",
      "        -30.13  ,  -51.175 ,  -42.136 ,  -67.413 ,  -77.073 ,  -31.303 ,\n",
      "       -102.051 ,  -59.478 ,  -46.092 ,  -34.845 , -142.968 ,  -44.666 ,\n",
      "        -49.289 ,  -69.069 ,  -52.21  ,  -73.071 ,  -56.718 ,  -31.05  ,\n",
      "        -84.939 ,  -32.315 ,  -57.27  ,  -60.03  ,  -95.588 ,  -38.709 ,\n",
      "        -39.33  ,  -42.849 ,  -36.409 ,  -31.717 ,  -38.088 ,  -42.136 ,\n",
      "        -70.909 ,  -36.409 ,  -49.358 ,  -31.05  , -199.226 ,  -30.291 ,\n",
      "        -33.511 ,  -32.867 ,  -37.421 ,  -47.725 ,  -30.13  ,  -68.057 ,\n",
      "        -57.96  ,  -83.306 ,  -53.889 ,  -61.111 ,  -50.6   ,  -38.893 ,\n",
      "       -566.881 ,  -36.409 ,  -53.475 ,  -30.751 ,  -48.3   ,  -58.351 ,\n",
      "        -73.071 ,  -64.377 ,  -47.472 ,  -43.033 ,  -51.198 ,  -33.672 ,\n",
      "        -36.8   , -295.826 ,  -57.914 ,  -52.624 ,  -49.289 ,  -68.057 ,\n",
      "        -55.89  ,  -32.982 ,  -42.136 ,  -57.339 ,  -56.373 ,  -36.409 ,\n",
      "         37.3695,   32.0395,   26.4195,   25.1895,   60.8095,   43.2895,\n",
      "        195.3295,   32.3695,   25.3595,   47.2095,   55.3295,   38.5795,\n",
      "         30.8195,   67.6295,   26.0895,   31.7595,   26.0795,   40.7095,\n",
      "        195.8195,   30.7595,   24.6795,   92.3795,   30.8595,   32.8295,\n",
      "         40.2495,   43.2895,  172.4895,   49.5495,  197.4295,   51.8095,\n",
      "         43.2895,   25.7295,   30.1495,   30.2895,   57.7195])]\n",
      "\n",
      "means: [array([395.87195438]), array([193.75375842]), array([-3.87651752])]\n",
      "\n"
     ]
    },
    {
     "data": {
      "image/png": "[encoded data removed]",
      "text/plain": [
       "<Figure size 432x288 with 1 Axes>"
      ]
     },
     "metadata": {
      "needs_background": "light"
     },
     "output_type": "display_data"
    }
   ],
   "source": [
    "#Box plot of deliveries and inventory.\n",
    "D_boxplot = plt.boxplot(D_boxplot, showmeans= True)\n",
    "for key in D_boxplot:\n",
    "    print(f'{key}: {[item.get_ydata() for item in D_boxplot[key]]}\\n')"
   ]
  },
  {
   "cell_type": "code",
   "execution_count": 33,
   "id": "2c096217",
   "metadata": {},
   "outputs": [
    {
     "name": "stdout",
     "output_type": "stream",
     "text": [
      "whiskers: [array([1., 1.]), array([1., 1.]), array([ -9.729, -30.705]), array([ 4.2795, 25.2895])]\n",
      "\n",
      "caps: [array([1., 1.]), array([1., 1.]), array([-30.705, -30.705]), array([25.2895, 25.2895])]\n",
      "\n",
      "boxes: [array([1., 1., 1., 1., 1.]), array([-9.729 , -9.729 ,  4.2795,  4.2795, -9.729 ])]\n",
      "\n",
      "medians: [array([1., 1.]), array([0.2076, 0.2076])]\n",
      "\n",
      "fliers: [array([0.3 , 0.66, 0.67, ..., 2.  , 3.  , 2.  ]), array([ -43.332 , -530.909 ,  -34.845 , ...,  707.7195,   43.5695,\n",
      "         32.2995])]\n",
      "\n",
      "means: [array([1.48531144]), array([-4.98412224])]\n",
      "\n"
     ]
    },
    {
     "data": {
      "image/png": "[encoded data removed]",
      "text/plain": [
       "<Figure size 432x288 with 1 Axes>"
      ]
     },
     "metadata": {
      "needs_background": "light"
     },
     "output_type": "display_data"
    }
   ],
   "source": [
    "#Box plot for sales\n",
    "S_boxplot = plt.boxplot(S_boxplot, showmeans= True)\n",
    "for key in S_boxplot:\n",
    "    print(f'{key}: {[item.get_ydata() for item in S_boxplot[key]]}\\n')"
   ]
  },
  {
   "cell_type": "code",
   "execution_count": 34,
   "id": "ab4f6233",
   "metadata": {},
   "outputs": [],
   "source": [
    "## Update Caps to find outliers\n",
    "# Delivery Caps\n",
    "d_cap1 = 10\n",
    "d_cap2 = 600\n",
    "# Inventory caps\n",
    "i_cap1 = 0\n",
    "i_cap2 = 571\n",
    "# Sales caps\n",
    "s_cap1 = 0\n",
    "s_cap2 = 350"
   ]
  },
  {
   "cell_type": "code",
   "execution_count": 35,
   "id": "573b08e9",
   "metadata": {},
   "outputs": [
    {
     "name": "stdout",
     "output_type": "stream",
     "text": [
      "     Sale_Date      Type Store_ID  SKU  Delivery  Sales  Sales_Amount  \\\n",
      "101 2021-12-10  Delivery     2547  X52      1000    0.0          3.13   \n",
      "\n",
      "     Inventory  Shrink  \n",
      "101        947  -7.199  \n",
      "      Sale_Date      Type Store_ID  SKU  Delivery  Sales  Sales_Amount  \\\n",
      "1160 2021-05-23  Delivery     1253  LSD         5    0.0          8.37   \n",
      "\n",
      "      Inventory  Shrink  \n",
      "1160          1 -19.251  \n"
     ]
    }
   ],
   "source": [
    "#Print the outliers in deliveries.\n",
    "for outlier in df.index:\n",
    "    if df.loc[outlier, \"Type\"] == 'Delivery':\n",
    "        if df.loc[outlier, \"Delivery\"] < d_cap1 or df.loc[outlier, \"Delivery\"] > d_cap2:\n",
    "            print(df.loc[[outlier]])\n",
    "  \n",
    "         \n",
    "  "
   ]
  },
  {
   "cell_type": "code",
   "execution_count": 36,
   "id": "d81d6953",
   "metadata": {},
   "outputs": [
    {
     "name": "stdout",
     "output_type": "stream",
     "text": [
      "     Sale_Date      Type Store_ID  SKU  Delivery  Sales  Sales_Amount  \\\n",
      "101 2021-12-10  Delivery     2547  X52      1000    0.0          3.13   \n",
      "\n",
      "     Inventory  Shrink  \n",
      "101        947  -7.199  \n",
      "      Sale_Date      Type Store_ID  SKU  Delivery  Sales  Sales_Amount  \\\n",
      "1161 2021-05-23  Delivery     8303  Q4N       599    0.0          8.37   \n",
      "\n",
      "      Inventory  Shrink  \n",
      "1161        589  8.3595  \n",
      "      Sale_Date      Type Store_ID  SKU  Delivery  Sales  Sales_Amount  \\\n",
      "1838 2021-01-14  Delivery     6294  JPI       588    0.0          1.84   \n",
      "\n",
      "      Inventory  Shrink  \n",
      "1838        575  -4.232  \n"
     ]
    }
   ],
   "source": [
    "#Print the outliers in Inventory\n",
    "for outlier in df.index:\n",
    "    if df.loc[outlier, \"Type\"] == 'Delivery':\n",
    "        if df.loc[outlier, \"Inventory\"] < i_cap1 or df.loc[outlier, \"Inventory\"] > i_cap2:\n",
    "            print(df.loc[[outlier]])"
   ]
  },
  {
   "cell_type": "code",
   "execution_count": 37,
   "id": "a8ad27e7",
   "metadata": {},
   "outputs": [
    {
     "name": "stdout",
     "output_type": "stream",
     "text": [
      "       Sale_Date  Type Store_ID  SKU  Delivery  Sales  Sales_Amount  \\\n",
      "83212 2021-05-20  Sale     7548  H8O         0  400.0         16.37   \n",
      "\n",
      "       Inventory  Shrink  \n",
      "83212          0  0.1155  \n"
     ]
    }
   ],
   "source": [
    "#Print the outliers in Sales.\n",
    "for outlier in df.index:\n",
    "    if df.loc[outlier, \"Type\"] == \"Sale\":\n",
    "        if df.loc[outlier, \"Sales\"] < s_cap1 or df.loc[outlier, \"Sales\"] > s_cap2:\n",
    "            print(df.loc[[outlier]])"
   ]
  },
  {
   "cell_type": "markdown",
   "id": "fa9d19b6",
   "metadata": {},
   "source": [
    "# Section 3 - Customer Analysis"
   ]
  },
  {
   "cell_type": "markdown",
   "id": "56de7443",
   "metadata": {},
   "source": [
    "### A: Active Customers\n",
    "#### Count the number of active customers in the group. "
   ]
  },
  {
   "cell_type": "code",
   "execution_count": 38,
   "id": "4744331a",
   "metadata": {},
   "outputs": [
    {
     "name": "stdout",
     "output_type": "stream",
     "text": [
      "30\n"
     ]
    }
   ],
   "source": [
    "# Total Records\n",
    "n_records = len(cust)\n",
    "print(n_records)"
   ]
  },
  {
   "cell_type": "code",
   "execution_count": 39,
   "id": "74c7e125",
   "metadata": {},
   "outputs": [
    {
     "name": "stdout",
     "output_type": "stream",
     "text": [
      "PBS\n",
      "No     15\n",
      "Yes    13\n",
      "Name: Store_ID, dtype: int64\n"
     ]
    }
   ],
   "source": [
    "#Count the number of customers by PBS type.\n",
    "print(cust.groupby(['PBS']).count()['Store_ID'])"
   ]
  },
  {
   "cell_type": "markdown",
   "id": "da199220",
   "metadata": {},
   "source": [
    "### B: Percentages by Type\n",
    "#### Take the percentages of each type for all active customers. "
   ]
  },
  {
   "cell_type": "code",
   "execution_count": 40,
   "id": "58a7bac6",
   "metadata": {},
   "outputs": [
    {
     "name": "stdout",
     "output_type": "stream",
     "text": [
      "Type\n",
      "Retail       30.0\n",
      "Warehouse    13.0\n",
      "Name: Store_ID, dtype: float64 %\n"
     ]
    }
   ],
   "source": [
    "# Calculate the percentages by type only on the PBS\n",
    "cust_type = cust[cust['PBS'] =='Yes'].copy()\n",
    "cust_type = (cust_type.groupby(['Type']).count()['Store_ID'] )/ len(cust)\n",
    "print(round(cust_type * 100), '%')"
   ]
  },
  {
   "cell_type": "code",
   "execution_count": 41,
   "id": "8336e5fb",
   "metadata": {},
   "outputs": [
    {
     "name": "stdout",
     "output_type": "stream",
     "text": [
      "<class 'pandas.core.frame.DataFrame'>\n",
      "RangeIndex: 30 entries, 0 to 29\n",
      "Data columns (total 9 columns):\n",
      " #   Column          Non-Null Count  Dtype \n",
      "---  ------          --------------  ----- \n",
      " 0   Account_Number  30 non-null     int64 \n",
      " 1   Store_ID        30 non-null     int64 \n",
      " 2   Type            30 non-null     object\n",
      " 3   PBS             28 non-null     object\n",
      " 4   Group           30 non-null     int64 \n",
      " 5   DM              30 non-null     object\n",
      " 6   BU              30 non-null     int64 \n",
      " 7   State           30 non-null     object\n",
      " 8   Division        30 non-null     object\n",
      "dtypes: int64(4), object(5)\n",
      "memory usage: 2.2+ KB\n"
     ]
    }
   ],
   "source": [
    "cust.info()"
   ]
  },
  {
   "cell_type": "markdown",
   "id": "42fc8bb6",
   "metadata": {},
   "source": [
    "### C: Products \n",
    "#### Breakdown what was sold vs delivered."
   ]
  },
  {
   "cell_type": "code",
   "execution_count": 42,
   "id": "136e06ca",
   "metadata": {},
   "outputs": [
    {
     "name": "stdout",
     "output_type": "stream",
     "text": [
      "     Delivery    Sales      Shrink\n",
      "SKU                               \n",
      "01F      9578  3904.00 -17830.3917\n",
      "06Z       373   216.67    290.7690\n",
      "0H2     45806  4639.00 -13369.7275\n",
      "0KX      2300   483.00   -781.3613\n",
      "0WT      2968   715.00  -1558.0047\n",
      "..        ...      ...         ...\n",
      "Z4O      6531   786.00  -2021.8923\n",
      "Z99       302    58.00   -514.5036\n",
      "ZJG         0    15.60   -174.8705\n",
      "ZX5         0   147.00   -414.6861\n",
      "ZYU         0   147.00  -1036.7341\n",
      "\n",
      "[187 rows x 3 columns]\n"
     ]
    }
   ],
   "source": [
    "\n",
    "products =pd.pivot_table(df, index=['SKU'],values=['Delivery','Sales','Shrink'],aggfunc=np.sum)\n",
    "print(products)"
   ]
  },
  {
   "cell_type": "markdown",
   "id": "f09a38dc",
   "metadata": {},
   "source": [
    "### D: Group Type\n",
    "#### Count the items by the type."
   ]
  },
  {
   "cell_type": "code",
   "execution_count": 43,
   "id": "8560c599",
   "metadata": {},
   "outputs": [
    {
     "name": "stdout",
     "output_type": "stream",
     "text": [
      "Group\n",
      "10     2\n",
      "11    11\n",
      "Name: Store_ID, dtype: int64\n"
     ]
    }
   ],
   "source": [
    "\n",
    "group_type = cust[cust['PBS'] =='Yes'].copy()\n",
    "group_type = (group_type.groupby(['Group']).count()['Store_ID'] ) \n",
    "print(group_type)"
   ]
  },
  {
   "cell_type": "markdown",
   "id": "73e01b51",
   "metadata": {},
   "source": [
    "### E: Shrink\n",
    "#### Log total shrink percentage and dollar amount on the template. "
   ]
  },
  {
   "cell_type": "markdown",
   "id": "7c45c960",
   "metadata": {},
   "source": [
    "# Section 4: Major Issues"
   ]
  },
  {
   "cell_type": "markdown",
   "id": "6bdbdf79",
   "metadata": {},
   "source": [
    "## A: Deliveries No Sales\n",
    "#### Find any locations that have deliveries but no sales"
   ]
  },
  {
   "cell_type": "code",
   "execution_count": 44,
   "id": "b73daa9f",
   "metadata": {},
   "outputs": [
    {
     "name": "stdout",
     "output_type": "stream",
     "text": [
      "Empty DataFrame\n",
      "Columns: [Delivery, Inventory, Sales, Sales_Amount, Shrink]\n",
      "Index: []\n"
     ]
    }
   ],
   "source": [
    "#Print records from stores with 0 deliveries\n",
    "print(period_pivot.loc[period_pivot['Delivery'] == 0])\n"
   ]
  },
  {
   "cell_type": "markdown",
   "id": "8f4b798d",
   "metadata": {},
   "source": [
    "## B: Sales no Deliveries\n",
    "#### Find any locations that have scans but no deliveries."
   ]
  },
  {
   "cell_type": "code",
   "execution_count": 45,
   "id": "78f7919d",
   "metadata": {
    "scrolled": true
   },
   "outputs": [
    {
     "name": "stdout",
     "output_type": "stream",
     "text": [
      "Empty DataFrame\n",
      "Columns: [Delivery, Inventory, Sales, Sales_Amount, Shrink]\n",
      "Index: []\n"
     ]
    }
   ],
   "source": [
    "#Print records from stores with 0 sales\n",
    "print(period_pivot.loc[period_pivot['Sales']== 0])"
   ]
  },
  {
   "cell_type": "markdown",
   "id": "cf253514",
   "metadata": {},
   "source": [
    "## C: Shrink Greater than Sales\n",
    "#### Find any locations that have shrink greater than the sales. "
   ]
  },
  {
   "cell_type": "code",
   "execution_count": 46,
   "id": "516a570e",
   "metadata": {},
   "outputs": [],
   "source": [
    "cust['Store_ID'] = change_var_type('Store_ID','string')"
   ]
  },
  {
   "cell_type": "code",
   "execution_count": 47,
   "id": "64eb1841",
   "metadata": {},
   "outputs": [],
   "source": [
    "full_file = pd.merge(period_pivot, cust, on = 'Store_ID', how = 'outer')"
   ]
  },
  {
   "cell_type": "code",
   "execution_count": 48,
   "id": "432b868c",
   "metadata": {},
   "outputs": [
    {
     "name": "stdout",
     "output_type": "stream",
     "text": [
      "   Store_ID  Delivery  Inventory      Sales  Sales_Amount      Shrink  \\\n",
      "0      1253     76861      37665  18922.280     162224.19 -64197.0563   \n",
      "1      1666     31625      16088   7974.630      65985.15 -26757.1809   \n",
      "2      2065     14783       7907   4007.500      32484.37 -15815.2563   \n",
      "3      2065     14783       7907   4007.500      32484.37 -15815.2563   \n",
      "4      2116     30509      15671   8092.920      61614.45 -25134.2250   \n",
      "5      2547     16766       7674   4025.160      32720.51 -14310.5020   \n",
      "6      3071     29068      15195   7984.580      66979.57 -27353.2227   \n",
      "7      3624     16100       8836   3829.720      32470.94 -14117.9682   \n",
      "8      3686     16186       8606   4180.160      31406.65 -10053.1767   \n",
      "9      3719     15399       7692   4278.760      32253.04 -12747.8651   \n",
      "10     3874     31844      15648   8407.890      63209.39 -26689.6147   \n",
      "11     3874     31844      15648   8407.890      63209.39 -26689.6147   \n",
      "12     4736     46947      21928  12554.240      99475.75 -44223.0490   \n",
      "13     4736     46947      21928  12554.240      99475.75 -44223.0490   \n",
      "14     4736     46947      21928  12554.240      99475.75 -44223.0490   \n",
      "15     4776     16701       8429   4156.800      33977.25 -13718.7583   \n",
      "16     4776     16701       8429   4156.800      33977.25 -13718.7583   \n",
      "17     4921     16312       7768   4152.750      31312.84 -16853.5238   \n",
      "18     5010     16569       6807   3981.320      34017.36 -12437.4467   \n",
      "19     5058     16309       8118   3924.860      31949.58 -14158.5199   \n",
      "20     5058     16309       8118   3924.860      31949.58 -14158.5199   \n",
      "21     5541     30646      13685   7638.356      63695.54 -26457.6170   \n",
      "22     5541     30646      13685   7638.356      63695.54 -26457.6170   \n",
      "23     5599     31169      15745   8511.240      65516.98 -24450.4319   \n",
      "24     5780     14922       7987   3901.770      32727.94 -13697.6121   \n",
      "25      592     32271      16623   7821.630      65745.46 -28220.0828   \n",
      "26      592     32271      16623   7821.630      65745.46 -28220.0828   \n",
      "27     6044     32280      14630   7585.670      65677.75 -29037.3534   \n",
      "28     6294     46627      23200  11867.710      98304.06 -38209.4089   \n",
      "29     6450     16488       7494   4025.970      32469.71 -13045.6151   \n",
      "30     6459     29190      14244   7682.170      65061.79 -28141.0641   \n",
      "31     6459     29190      14244   7682.170      65061.79 -28141.0641   \n",
      "32     6865     17402       9629   3711.830      31828.48 -12796.4208   \n",
      "33     7548     30119      12026   8069.310      65768.94 -31347.5835   \n",
      "34     7548     30119      12026   8069.310      65768.94 -31347.5835   \n",
      "35      822     14463       7324   3987.500      34053.33 -12584.6090   \n",
      "36     8303     16073       7540   3981.226      33195.44 -12312.5777   \n",
      "37     8566     14108       7050   3946.990      31618.03 -13715.8141   \n",
      "38     9200     15398       7659   4426.220      34124.90 -14109.9975   \n",
      "39     9223     30502      14883   7993.267      64755.21 -27223.0523   \n",
      "\n",
      "    Account_Number            Type  PBS  Group    DM     BU State Division  \n",
      "0              5.0          Retail  Yes   11.0  DM_1  433.0    PA     East  \n",
      "1              1.0          Retail  Yes   11.0  DM_1  412.0    NJ    North  \n",
      "2             26.0          Retail   No   11.0  DM_4  433.0    PA    North  \n",
      "3             28.0       Warehouse   No   11.0  DM_1  457.0    VA    South  \n",
      "4             21.0          Retail   No   11.0  DM_1  457.0    VA     East  \n",
      "5              NaN             NaN  NaN    NaN   NaN    NaN   NaN      NaN  \n",
      "6              NaN             NaN  NaN    NaN   NaN    NaN   NaN      NaN  \n",
      "7             15.0       Warehouse   No   11.0  DM_2  412.0    NJ     West  \n",
      "8              7.0          Retail  Yes   11.0  DM_2  457.0    VA     West  \n",
      "9              4.0          Retail  Yes   11.0  DM_1  412.0    CA    South  \n",
      "10            16.0  Do not service   No   11.0  DM_2  422.0    NY     West  \n",
      "11            18.0  Do not service   No   11.0  DM_4  412.0    CA    North  \n",
      "12             2.0          Retail  Yes   11.0  DM_1  422.0    NY    North  \n",
      "13            14.0       Warehouse   No   11.0  DM_2  457.0    VA     East  \n",
      "14            20.0          Retail   No   11.0  DM_1  457.0    OH    South  \n",
      "15             6.0          Retail  Yes   11.0  DM_2  457.0    OH     East  \n",
      "16            13.0       Warehouse  Yes   11.0  DM_1  457.0    OH     East  \n",
      "17             8.0          Retail  Yes   10.0  DM_2  412.0    NJ     West  \n",
      "18             NaN             NaN  NaN    NaN   NaN    NaN   NaN      NaN  \n",
      "19             9.0          Retail  Yes   10.0  DM_3  422.0    NY    North  \n",
      "20            29.0       Warehouse  NaN   10.0  DM_1  412.0    NJ     East  \n",
      "21            11.0       Warehouse  Yes   11.0  DM_1  412.0    CA    South  \n",
      "22            23.0          Retail   No   11.0  DM_2  422.0    NY     West  \n",
      "23            24.0          Retail   No   11.0  DM_2  422.0    TX     West  \n",
      "24             NaN             NaN  NaN    NaN   NaN    NaN   NaN      NaN  \n",
      "25            19.0          Retail   No   11.0  DM_1  433.0    PA    South  \n",
      "26            30.0       Warehouse  NaN   10.0  DM_2  422.0    NY     East  \n",
      "27             NaN             NaN  NaN    NaN   NaN    NaN   NaN      NaN  \n",
      "28            27.0          Retail   No   11.0  DM_1  457.0    OH    South  \n",
      "29            17.0  Do not service   No   11.0  DM_3  422.0    TX    North  \n",
      "30             3.0          Retail  Yes   11.0  DM_1  422.0    TX    South  \n",
      "31            12.0       Warehouse  Yes   11.0  DM_1  433.0    PA    South  \n",
      "32             NaN             NaN  NaN    NaN   NaN    NaN   NaN      NaN  \n",
      "33            10.0       Warehouse  Yes   11.0  DM_4  422.0    TX    North  \n",
      "34            25.0          Retail   No   11.0  DM_3  412.0    CA    North  \n",
      "35            22.0          Retail   No   11.0  DM_2  412.0    NJ     East  \n",
      "36             NaN             NaN  NaN    NaN   NaN    NaN   NaN      NaN  \n",
      "37             NaN             NaN  NaN    NaN   NaN    NaN   NaN      NaN  \n",
      "38             NaN             NaN  NaN    NaN   NaN    NaN   NaN      NaN  \n",
      "39             NaN             NaN  NaN    NaN   NaN    NaN   NaN      NaN  \n"
     ]
    }
   ],
   "source": [
    "print(full_file)"
   ]
  },
  {
   "cell_type": "code",
   "execution_count": 49,
   "id": "e5a9a9e9",
   "metadata": {},
   "outputs": [],
   "source": [
    "#Shrink Greater than Sales\n",
    "high_shrink = []\n",
    "for shrink in full_file.index:\n",
    "        if full_file.loc[shrink, \"Shrink\"] > full_file.loc[shrink, \"Sales_Amount\"]:\n",
    "            print(full_file.loc[[shrink]])\n",
    "         "
   ]
  },
  {
   "cell_type": "markdown",
   "id": "3ce1dd61",
   "metadata": {},
   "source": [
    "# Section 5 Days of Sales"
   ]
  },
  {
   "cell_type": "markdown",
   "id": "5ad64edb",
   "metadata": {},
   "source": [
    "## A: Sales Per Day\n",
    "#### Determine the total amount of sales per day (and graph) for all customers. Find general stats. "
   ]
  },
  {
   "cell_type": "code",
   "execution_count": 50,
   "id": "9a2f3ec1",
   "metadata": {},
   "outputs": [
    {
     "name": "stdout",
     "output_type": "stream",
     "text": [
      "             Sales\n",
      "Sale_Date         \n",
      "2021-01-01  580.00\n",
      "2021-01-02  505.67\n",
      "2021-01-03  472.83\n",
      "2021-01-04  474.00\n",
      "2021-01-05  607.00\n",
      "...            ...\n",
      "2021-12-27  588.33\n",
      "2021-12-28  501.00\n",
      "2021-12-29  437.80\n",
      "2021-12-30  526.00\n",
      "2021-12-31  468.00\n",
      "\n",
      "[365 rows x 1 columns]\n"
     ]
    }
   ],
   "source": [
    "# View the sales and deliveries by date\n",
    "scan_volume=pd.pivot_table(df, index=['Sale_Date'],values=['Sales'],aggfunc=np.sum)\n",
    "print(scan_volume)"
   ]
  },
  {
   "cell_type": "markdown",
   "id": "8e730781",
   "metadata": {},
   "source": [
    "## B: Line Graph\n",
    "#### Show a line graph for scans for all customers. "
   ]
  },
  {
   "cell_type": "code",
   "execution_count": 51,
   "id": "f4113c0a",
   "metadata": {},
   "outputs": [
    {
     "data": {
      "image/png": "[encoded data removed]",
      "text/plain": [
       "<Figure size 432x288 with 1 Axes>"
      ]
     },
     "metadata": {
      "needs_background": "light"
     },
     "output_type": "display_data"
    }
   ],
   "source": [
    "scan_volume.plot()\n",
    "plt.xticks(rotation=300)\n",
    "plt.show()\n"
   ]
  },
  {
   "cell_type": "code",
   "execution_count": 52,
   "id": "86613264",
   "metadata": {},
   "outputs": [
    {
     "data": {
      "text/html": [
       "<div>\n",
       "<style scoped>\n",
       "    .dataframe tbody tr th:only-of-type {\n",
       "        vertical-align: middle;\n",
       "    }\n",
       "\n",
       "    .dataframe tbody tr th {\n",
       "        vertical-align: top;\n",
       "    }\n",
       "\n",
       "    .dataframe thead th {\n",
       "        text-align: right;\n",
       "    }\n",
       "</style>\n",
       "<table border=\"1\" class=\"dataframe\">\n",
       "  <thead>\n",
       "    <tr style=\"text-align: right;\">\n",
       "      <th></th>\n",
       "      <th>Sales</th>\n",
       "    </tr>\n",
       "  </thead>\n",
       "  <tbody>\n",
       "    <tr>\n",
       "      <th>count</th>\n",
       "      <td>365.00000</td>\n",
       "    </tr>\n",
       "    <tr>\n",
       "      <th>mean</th>\n",
       "      <td>535.95734</td>\n",
       "    </tr>\n",
       "    <tr>\n",
       "      <th>std</th>\n",
       "      <td>77.46863</td>\n",
       "    </tr>\n",
       "    <tr>\n",
       "      <th>min</th>\n",
       "      <td>390.33000</td>\n",
       "    </tr>\n",
       "    <tr>\n",
       "      <th>25%</th>\n",
       "      <td>480.92000</td>\n",
       "    </tr>\n",
       "    <tr>\n",
       "      <th>50%</th>\n",
       "      <td>518.50000</td>\n",
       "    </tr>\n",
       "    <tr>\n",
       "      <th>75%</th>\n",
       "      <td>581.00000</td>\n",
       "    </tr>\n",
       "    <tr>\n",
       "      <th>max</th>\n",
       "      <td>897.00000</td>\n",
       "    </tr>\n",
       "  </tbody>\n",
       "</table>\n",
       "</div>"
      ],
      "text/plain": [
       "           Sales\n",
       "count  365.00000\n",
       "mean   535.95734\n",
       "std     77.46863\n",
       "min    390.33000\n",
       "25%    480.92000\n",
       "50%    518.50000\n",
       "75%    581.00000\n",
       "max    897.00000"
      ]
     },
     "execution_count": 52,
     "metadata": {},
     "output_type": "execute_result"
    }
   ],
   "source": [
    "scan_volume.describe()"
   ]
  },
  {
   "cell_type": "code",
   "execution_count": 53,
   "id": "6ee8e178",
   "metadata": {},
   "outputs": [
    {
     "name": "stdout",
     "output_type": "stream",
     "text": [
      "            Sales\n",
      "Sale_Date        \n",
      "2021-05-20  897.0\n",
      "             Sales\n",
      "Sale_Date         \n",
      "2021-07-20  390.33\n"
     ]
    }
   ],
   "source": [
    "#Max Sale Day & Min Sale Day\n",
    "print(scan_volume[scan_volume.Sales == scan_volume.Sales.max()])\n",
    "print(scan_volume[scan_volume.Sales == scan_volume.Sales.min()])"
   ]
  },
  {
   "cell_type": "code",
   "execution_count": 54,
   "id": "8f39a935",
   "metadata": {},
   "outputs": [],
   "source": [
    "#Convert to date format\n",
    "scan_volume['Sale_Date'] = change_var_type('Sale_Date', 'date')"
   ]
  },
  {
   "cell_type": "code",
   "execution_count": 55,
   "id": "aff01468",
   "metadata": {},
   "outputs": [
    {
     "name": "stdout",
     "output_type": "stream",
     "text": [
      "No Sales on These dates\n",
      "DatetimeIndex(['2021-05-20', '2021-05-21', '2021-05-22', '2021-05-23',\n",
      "               '2021-05-24', '2021-05-25', '2021-05-26', '2021-05-27',\n",
      "               '2021-05-28', '2021-05-29',\n",
      "               ...\n",
      "               '2022-05-11', '2022-05-12', '2022-05-13', '2022-05-14',\n",
      "               '2022-05-15', '2022-05-16', '2022-05-17', '2022-05-18',\n",
      "               '2022-05-19', '2022-05-20'],\n",
      "              dtype='datetime64[ns]', length=366, freq=None)\n"
     ]
    }
   ],
   "source": [
    "# Check for any missing dates for the chain customer as a whole.\n",
    "Start_Date = '2021-05-20'\n",
    "End_Date = '2022-05-20'\n",
    "DOS = scan_volume.set_index('Sale_Date')\n",
    "DOS.index = pd.to_datetime(DOS.index)\n",
    "print(\"No Sales on These dates\")\n",
    "k = pd.date_range(start=Start_Date, end = End_Date).difference(DOS.index);\n",
    "print(k)"
   ]
  },
  {
   "cell_type": "code",
   "execution_count": 56,
   "id": "991458aa",
   "metadata": {},
   "outputs": [],
   "source": [
    "# Function to print graphs on any high risk locations\n",
    "def customer_df(df, customer_number):\n",
    "    \n",
    "    customer_df = df[df['Store_ID'] == customer_number]\n",
    "    \n",
    "    customer_df = customer_df[customer_df['Type']== 'Sale']\n",
    "    \n",
    "    customer_df = customer_df.groupby(['Sale_Date']).sum()['Sales']\n",
    "    \n",
    "    customer_df.plot()\n",
    "    plt.title(customer_number, fontsize = 14) \n",
    "    plt.xticks(rotation=90)\n",
    "    plt.rcParams[\"figure.figsize\"] = (7,3.5)\n",
    "    plt.show()\n",
    "    "
   ]
  },
  {
   "cell_type": "code",
   "execution_count": 57,
   "id": "e6bcbb25",
   "metadata": {},
   "outputs": [
    {
     "data": {
      "image/png": "[encoded data removed]",
      "text/plain": [
       "<Figure size 432x288 with 1 Axes>"
      ]
     },
     "metadata": {
      "needs_background": "light"
     },
     "output_type": "display_data"
    },
    {
     "data": {
      "image/png": "[encoded data removed]",
      "text/plain": [
       "<Figure size 504x252 with 1 Axes>"
      ]
     },
     "metadata": {
      "needs_background": "light"
     },
     "output_type": "display_data"
    },
    {
     "data": {
      "image/png": "[encoded data removed]",
      "text/plain": [
       "<Figure size 504x252 with 1 Axes>"
      ]
     },
     "metadata": {
      "needs_background": "light"
     },
     "output_type": "display_data"
    },
    {
     "data": {
      "image/png": "[encoded data removed]",
      "text/plain": [
       "<Figure size 504x252 with 1 Axes>"
      ]
     },
     "metadata": {
      "needs_background": "light"
     },
     "output_type": "display_data"
    },
    {
     "data": {
      "image/png": "[encoded data removed]",
      "text/plain": [
       "<Figure size 504x252 with 1 Axes>"
      ]
     },
     "metadata": {
      "needs_background": "light"
     },
     "output_type": "display_data"
    }
   ],
   "source": [
    "#Enter high risk stores and outliers here to get a visual on the sales. \n",
    "\n",
    "high_risk_list = ['1666','1253','2065','2116','2547']\n",
    "\n",
    "for risk in high_risk_list:\n",
    "    customer_df(df, risk)\n",
    "    \n"
   ]
  },
  {
   "cell_type": "markdown",
   "id": "ed1c534b",
   "metadata": {},
   "source": [
    "## C: DOS for Specific Customers\n",
    "#### Check for zero scan days for specific customers\n"
   ]
  },
  {
   "cell_type": "code",
   "execution_count": 58,
   "id": "df05225c",
   "metadata": {},
   "outputs": [
    {
     "name": "stdout",
     "output_type": "stream",
     "text": [
      "       Sale_Date Store_ID  Sales\n",
      "0     2021-01-01     1253   53.0\n",
      "1     2021-01-01     1666   16.0\n",
      "2     2021-01-01     2065   79.0\n",
      "3     2021-01-01     2116   23.0\n",
      "4     2021-01-01     2547   14.0\n",
      "...          ...      ...    ...\n",
      "10940 2021-12-31      822   10.0\n",
      "10941 2021-12-31     8303    8.0\n",
      "10942 2021-12-31     8566    6.0\n",
      "10943 2021-12-31     9200    8.0\n",
      "10944 2021-12-31     9223   12.0\n",
      "\n",
      "[10945 rows x 3 columns]\n"
     ]
    }
   ],
   "source": [
    "# View the sales and deliveries by date and store\n",
    "store_volume=pd.pivot_table(df, index=['Sale_Date','Store_ID'],values=['Sales'],aggfunc=np.sum)\n",
    "store_volume = store_volume.reset_index()\n",
    "print(store_volume)"
   ]
  },
  {
   "cell_type": "code",
   "execution_count": 59,
   "id": "b9d02aca",
   "metadata": {},
   "outputs": [],
   "source": [
    "# Examine stores with low DOS, and count zero sales days\n",
    "def line_graph(df, customer_number):\n",
    "    #Start_Date, #End_Date\n",
    "    \n",
    "    idx = pd.date_range(start = Start_Date ,end =  End_Date)\n",
    "    \n",
    "    df = df[df['Store_ID'] == customer_number]\n",
    "    \n",
    "    df = df[df['Type']== 'Sale']\n",
    "    \n",
    "    df=pd.pivot_table(df, index=['Sale_Date'],values=['Sales'],aggfunc=np.sum)\n",
    "        \n",
    "    df.index = pd.DatetimeIndex(df.index)\n",
    "    \n",
    "    df = df.reindex(idx, fill_value=0)\n",
    "    \n",
    "    df.plot()\n",
    "    plt.title(customer_number, fontsize = 14) \n",
    "    plt.xticks(rotation=90)\n",
    "    plt.rcParams[\"figure.figsize\"] = (7,3.5)\n",
    "    plt.show()\n",
    "    \n",
    "    zero_df = df[df['Sales']== 0]\n",
    "    \n",
    "    print(\"# of ZERO SALES DAYS between \", Start_Date, \"&\", End_Date, \": \",len(zero_df))\n",
    "    \n",
    "    print(zero_df)\n",
    "    \n",
    "    \n",
    "    "
   ]
  },
  {
   "cell_type": "code",
   "execution_count": 60,
   "id": "b99eb011",
   "metadata": {
    "scrolled": true
   },
   "outputs": [
    {
     "data": {
      "image/png": "[encoded data removed]",
      "text/plain": [
       "<Figure size 504x252 with 1 Axes>"
      ]
     },
     "metadata": {
      "needs_background": "light"
     },
     "output_type": "display_data"
    },
    {
     "name": "stdout",
     "output_type": "stream",
     "text": [
      "# of ZERO SALES DAYS between  2021-05-20 & 2022-05-20 :  140\n",
      "            Sales\n",
      "2022-01-01    0.0\n",
      "2022-01-02    0.0\n",
      "2022-01-03    0.0\n",
      "2022-01-04    0.0\n",
      "2022-01-05    0.0\n",
      "...           ...\n",
      "2022-05-16    0.0\n",
      "2022-05-17    0.0\n",
      "2022-05-18    0.0\n",
      "2022-05-19    0.0\n",
      "2022-05-20    0.0\n",
      "\n",
      "[140 rows x 1 columns]\n"
     ]
    },
    {
     "data": {
      "image/png": "[encoded data removed]",
      "text/plain": [
       "<Figure size 504x252 with 1 Axes>"
      ]
     },
     "metadata": {
      "needs_background": "light"
     },
     "output_type": "display_data"
    },
    {
     "name": "stdout",
     "output_type": "stream",
     "text": [
      "# of ZERO SALES DAYS between  2021-05-20 & 2022-05-20 :  140\n",
      "            Sales\n",
      "2022-01-01    0.0\n",
      "2022-01-02    0.0\n",
      "2022-01-03    0.0\n",
      "2022-01-04    0.0\n",
      "2022-01-05    0.0\n",
      "...           ...\n",
      "2022-05-16    0.0\n",
      "2022-05-17    0.0\n",
      "2022-05-18    0.0\n",
      "2022-05-19    0.0\n",
      "2022-05-20    0.0\n",
      "\n",
      "[140 rows x 1 columns]\n"
     ]
    }
   ],
   "source": [
    "low_DOS_list = ['2116','2547']\n",
    "\n",
    "for DOS in low_DOS_list:\n",
    "    \n",
    "    line_graph(df,  DOS)\n"
   ]
  },
  {
   "cell_type": "markdown",
   "id": "53626353",
   "metadata": {},
   "source": [
    "# Section 6: Deliveries Vs Scans"
   ]
  },
  {
   "cell_type": "markdown",
   "id": "d9d2b91d",
   "metadata": {},
   "source": [
    "## A: Deliveries Vs Sales\n",
    "#### Bar graph to show stores with a low ratio of scans to deliveries."
   ]
  },
  {
   "cell_type": "code",
   "execution_count": 61,
   "id": "7bde0dc5",
   "metadata": {},
   "outputs": [],
   "source": [
    "shrink_report = pd.read_csv(shrink_report)"
   ]
  },
  {
   "cell_type": "code",
   "execution_count": 62,
   "id": "024b2f1a",
   "metadata": {},
   "outputs": [
    {
     "data": {
      "text/html": [
       "<div>\n",
       "<style scoped>\n",
       "    .dataframe tbody tr th:only-of-type {\n",
       "        vertical-align: middle;\n",
       "    }\n",
       "\n",
       "    .dataframe tbody tr th {\n",
       "        vertical-align: top;\n",
       "    }\n",
       "\n",
       "    .dataframe thead th {\n",
       "        text-align: right;\n",
       "    }\n",
       "</style>\n",
       "<table border=\"1\" class=\"dataframe\">\n",
       "  <thead>\n",
       "    <tr style=\"text-align: right;\">\n",
       "      <th></th>\n",
       "      <th>Account</th>\n",
       "      <th>Store</th>\n",
       "      <th>Delivery</th>\n",
       "      <th>Sales</th>\n",
       "      <th>Sales Dollar</th>\n",
       "      <th>Shrink Dollars</th>\n",
       "      <th>Shrink %</th>\n",
       "    </tr>\n",
       "  </thead>\n",
       "  <tbody>\n",
       "    <tr>\n",
       "      <th>25</th>\n",
       "      <td>26</td>\n",
       "      <td>7548</td>\n",
       "      <td>30119</td>\n",
       "      <td>8069</td>\n",
       "      <td>65768.94</td>\n",
       "      <td>8069</td>\n",
       "      <td>48%</td>\n",
       "    </tr>\n",
       "    <tr>\n",
       "      <th>26</th>\n",
       "      <td>27</td>\n",
       "      <td>8303</td>\n",
       "      <td>16073</td>\n",
       "      <td>3981</td>\n",
       "      <td>33195.44</td>\n",
       "      <td>3981</td>\n",
       "      <td>50%</td>\n",
       "    </tr>\n",
       "    <tr>\n",
       "      <th>27</th>\n",
       "      <td>28</td>\n",
       "      <td>8566</td>\n",
       "      <td>14108</td>\n",
       "      <td>3947</td>\n",
       "      <td>31618.03</td>\n",
       "      <td>3947</td>\n",
       "      <td>52%</td>\n",
       "    </tr>\n",
       "    <tr>\n",
       "      <th>28</th>\n",
       "      <td>29</td>\n",
       "      <td>9200</td>\n",
       "      <td>15398</td>\n",
       "      <td>4426</td>\n",
       "      <td>34124.90</td>\n",
       "      <td>4426</td>\n",
       "      <td>54%</td>\n",
       "    </tr>\n",
       "    <tr>\n",
       "      <th>29</th>\n",
       "      <td>30</td>\n",
       "      <td>9223</td>\n",
       "      <td>30502</td>\n",
       "      <td>7993</td>\n",
       "      <td>64755.21</td>\n",
       "      <td>7993</td>\n",
       "      <td>56%</td>\n",
       "    </tr>\n",
       "  </tbody>\n",
       "</table>\n",
       "</div>"
      ],
      "text/plain": [
       "    Account  Store  Delivery  Sales  Sales Dollar  Shrink Dollars Shrink %\n",
       "25       26   7548     30119   8069      65768.94            8069      48%\n",
       "26       27   8303     16073   3981      33195.44            3981      50%\n",
       "27       28   8566     14108   3947      31618.03            3947      52%\n",
       "28       29   9200     15398   4426      34124.90            4426      54%\n",
       "29       30   9223     30502   7993      64755.21            7993      56%"
      ]
     },
     "execution_count": 62,
     "metadata": {},
     "output_type": "execute_result"
    }
   ],
   "source": [
    "shrink_report = pd.DataFrame(shrink_report)\n",
    "shrink_report.tail()"
   ]
  },
  {
   "cell_type": "code",
   "execution_count": 63,
   "id": "485e62a8",
   "metadata": {},
   "outputs": [
    {
     "data": {
      "text/html": [
       "<div>\n",
       "<style scoped>\n",
       "    .dataframe tbody tr th:only-of-type {\n",
       "        vertical-align: middle;\n",
       "    }\n",
       "\n",
       "    .dataframe tbody tr th {\n",
       "        vertical-align: top;\n",
       "    }\n",
       "\n",
       "    .dataframe thead th {\n",
       "        text-align: right;\n",
       "    }\n",
       "</style>\n",
       "<table border=\"1\" class=\"dataframe\">\n",
       "  <thead>\n",
       "    <tr style=\"text-align: right;\">\n",
       "      <th></th>\n",
       "      <th>Account</th>\n",
       "      <th>Store</th>\n",
       "      <th>Delivery</th>\n",
       "      <th>Sales</th>\n",
       "      <th>Sales Dollar</th>\n",
       "      <th>Shrink Dollars</th>\n",
       "      <th>Shrink %</th>\n",
       "      <th>Ratio</th>\n",
       "    </tr>\n",
       "  </thead>\n",
       "  <tbody>\n",
       "    <tr>\n",
       "      <th>25</th>\n",
       "      <td>26</td>\n",
       "      <td>7548</td>\n",
       "      <td>30119</td>\n",
       "      <td>8069</td>\n",
       "      <td>65768.94</td>\n",
       "      <td>8069</td>\n",
       "      <td>48%</td>\n",
       "      <td>26.790398</td>\n",
       "    </tr>\n",
       "    <tr>\n",
       "      <th>26</th>\n",
       "      <td>27</td>\n",
       "      <td>8303</td>\n",
       "      <td>16073</td>\n",
       "      <td>3981</td>\n",
       "      <td>33195.44</td>\n",
       "      <td>3981</td>\n",
       "      <td>50%</td>\n",
       "      <td>24.768245</td>\n",
       "    </tr>\n",
       "    <tr>\n",
       "      <th>27</th>\n",
       "      <td>28</td>\n",
       "      <td>8566</td>\n",
       "      <td>14108</td>\n",
       "      <td>3947</td>\n",
       "      <td>31618.03</td>\n",
       "      <td>3947</td>\n",
       "      <td>52%</td>\n",
       "      <td>27.977034</td>\n",
       "    </tr>\n",
       "    <tr>\n",
       "      <th>28</th>\n",
       "      <td>29</td>\n",
       "      <td>9200</td>\n",
       "      <td>15398</td>\n",
       "      <td>4426</td>\n",
       "      <td>34124.90</td>\n",
       "      <td>4426</td>\n",
       "      <td>54%</td>\n",
       "      <td>28.743993</td>\n",
       "    </tr>\n",
       "    <tr>\n",
       "      <th>29</th>\n",
       "      <td>30</td>\n",
       "      <td>9223</td>\n",
       "      <td>30502</td>\n",
       "      <td>7993</td>\n",
       "      <td>64755.21</td>\n",
       "      <td>7993</td>\n",
       "      <td>56%</td>\n",
       "      <td>26.204839</td>\n",
       "    </tr>\n",
       "  </tbody>\n",
       "</table>\n",
       "</div>"
      ],
      "text/plain": [
       "    Account  Store  Delivery  Sales  Sales Dollar  Shrink Dollars Shrink %  \\\n",
       "25       26   7548     30119   8069      65768.94            8069      48%   \n",
       "26       27   8303     16073   3981      33195.44            3981      50%   \n",
       "27       28   8566     14108   3947      31618.03            3947      52%   \n",
       "28       29   9200     15398   4426      34124.90            4426      54%   \n",
       "29       30   9223     30502   7993      64755.21            7993      56%   \n",
       "\n",
       "        Ratio  \n",
       "25  26.790398  \n",
       "26  24.768245  \n",
       "27  27.977034  \n",
       "28  28.743993  \n",
       "29  26.204839  "
      ]
     },
     "execution_count": 63,
     "metadata": {},
     "output_type": "execute_result"
    }
   ],
   "source": [
    "#Calculate the ratio of sales to deliveries\n",
    "shrink_report['Ratio'] = (shrink_report['Sales']/ shrink_report['Delivery']) * 100 \n",
    "shrink_report.tail()\n"
   ]
  },
  {
   "cell_type": "code",
   "execution_count": 64,
   "id": "f0570193",
   "metadata": {},
   "outputs": [
    {
     "name": "stdout",
     "output_type": "stream",
     "text": [
      "25\n"
     ]
    }
   ],
   "source": [
    "#Take twenty five stores with the lowest sale to delivery ratio.\n",
    "low_ratio = shrink_report.sort_values('Ratio').head(25)\n",
    "print(len(low_ratio))\n",
    "low_ratio_graph = low_ratio[['Store', 'Delivery','Sales']].copy()"
   ]
  },
  {
   "cell_type": "code",
   "execution_count": 65,
   "id": "c2b112d3",
   "metadata": {},
   "outputs": [],
   "source": [
    "##If certain locations are needing to be filtered out, that can be done here. Graph is recommended capped at 20 stores.\n",
    "low_ratio_graph['Store'] = low_ratio_graph['Store'].astype(\"string\")\n",
    "store_list = ['4921','3686','1253','6865','8303']\n",
    "low_ratio_graph = low_ratio_graph[~low_ratio_graph['Store'].isin(store_list)]"
   ]
  },
  {
   "cell_type": "code",
   "execution_count": 66,
   "id": "af808645",
   "metadata": {},
   "outputs": [
    {
     "name": "stdout",
     "output_type": "stream",
     "text": [
      "20\n",
      "<class 'pandas.core.frame.DataFrame'>\n",
      "Int64Index: 20 entries, 20 to 18\n",
      "Data columns (total 3 columns):\n",
      " #   Column    Non-Null Count  Dtype \n",
      "---  ------    --------------  ----- \n",
      " 0   Store     20 non-null     string\n",
      " 1   Delivery  20 non-null     int64 \n",
      " 2   Sales     20 non-null     int64 \n",
      "dtypes: int64(2), string(1)\n",
      "memory usage: 640.0 bytes\n"
     ]
    }
   ],
   "source": [
    "print(len(low_ratio_graph))\n",
    "#print(low_ratio_graph)\n",
    "low_ratio_graph.info()"
   ]
  },
  {
   "cell_type": "code",
   "execution_count": 67,
   "id": "4349e171",
   "metadata": {},
   "outputs": [
    {
     "data": {
      "text/plain": [
       "<AxesSubplot:xlabel='Store'>"
      ]
     },
     "execution_count": 67,
     "metadata": {},
     "output_type": "execute_result"
    },
    {
     "data": {
      "image/png": "[encoded data removed]",
      "text/plain": [
       "<Figure size 504x252 with 1 Axes>"
      ]
     },
     "metadata": {
      "needs_background": "light"
     },
     "output_type": "display_data"
    }
   ],
   "source": [
    "low_ratio_graph.set_index('Store').plot.bar()"
   ]
  },
  {
   "cell_type": "markdown",
   "id": "4e9808cc",
   "metadata": {},
   "source": [
    "# Section 7: Calculate & Analyze Shrink"
   ]
  },
  {
   "cell_type": "markdown",
   "id": "36a0c635",
   "metadata": {},
   "source": [
    "## A: By Delivery Management"
   ]
  },
  {
   "cell_type": "code",
   "execution_count": 68,
   "id": "214d268e",
   "metadata": {},
   "outputs": [
    {
     "data": {
      "text/html": [
       "<div>\n",
       "<style scoped>\n",
       "    .dataframe tbody tr th:only-of-type {\n",
       "        vertical-align: middle;\n",
       "    }\n",
       "\n",
       "    .dataframe tbody tr th {\n",
       "        vertical-align: top;\n",
       "    }\n",
       "\n",
       "    .dataframe thead th {\n",
       "        text-align: right;\n",
       "    }\n",
       "</style>\n",
       "<table border=\"1\" class=\"dataframe\">\n",
       "  <thead>\n",
       "    <tr style=\"text-align: right;\">\n",
       "      <th></th>\n",
       "      <th>Store_ID</th>\n",
       "      <th>Delivery</th>\n",
       "      <th>Inventory</th>\n",
       "      <th>Sales</th>\n",
       "      <th>Sales_Amount</th>\n",
       "      <th>Shrink</th>\n",
       "      <th>Account_Number</th>\n",
       "      <th>Type</th>\n",
       "      <th>PBS</th>\n",
       "      <th>Group</th>\n",
       "      <th>DM</th>\n",
       "      <th>BU</th>\n",
       "      <th>State</th>\n",
       "      <th>Division</th>\n",
       "    </tr>\n",
       "  </thead>\n",
       "  <tbody>\n",
       "    <tr>\n",
       "      <th>0</th>\n",
       "      <td>1253</td>\n",
       "      <td>76861</td>\n",
       "      <td>37665</td>\n",
       "      <td>18922.28</td>\n",
       "      <td>162224.19</td>\n",
       "      <td>-64197.0563</td>\n",
       "      <td>5.0</td>\n",
       "      <td>Retail</td>\n",
       "      <td>Yes</td>\n",
       "      <td>11.0</td>\n",
       "      <td>DM_1</td>\n",
       "      <td>433.0</td>\n",
       "      <td>PA</td>\n",
       "      <td>East</td>\n",
       "    </tr>\n",
       "    <tr>\n",
       "      <th>1</th>\n",
       "      <td>1666</td>\n",
       "      <td>31625</td>\n",
       "      <td>16088</td>\n",
       "      <td>7974.63</td>\n",
       "      <td>65985.15</td>\n",
       "      <td>-26757.1809</td>\n",
       "      <td>1.0</td>\n",
       "      <td>Retail</td>\n",
       "      <td>Yes</td>\n",
       "      <td>11.0</td>\n",
       "      <td>DM_1</td>\n",
       "      <td>412.0</td>\n",
       "      <td>NJ</td>\n",
       "      <td>North</td>\n",
       "    </tr>\n",
       "    <tr>\n",
       "      <th>2</th>\n",
       "      <td>2065</td>\n",
       "      <td>14783</td>\n",
       "      <td>7907</td>\n",
       "      <td>4007.50</td>\n",
       "      <td>32484.37</td>\n",
       "      <td>-15815.2563</td>\n",
       "      <td>26.0</td>\n",
       "      <td>Retail</td>\n",
       "      <td>No</td>\n",
       "      <td>11.0</td>\n",
       "      <td>DM_4</td>\n",
       "      <td>433.0</td>\n",
       "      <td>PA</td>\n",
       "      <td>North</td>\n",
       "    </tr>\n",
       "    <tr>\n",
       "      <th>3</th>\n",
       "      <td>2065</td>\n",
       "      <td>14783</td>\n",
       "      <td>7907</td>\n",
       "      <td>4007.50</td>\n",
       "      <td>32484.37</td>\n",
       "      <td>-15815.2563</td>\n",
       "      <td>28.0</td>\n",
       "      <td>Warehouse</td>\n",
       "      <td>No</td>\n",
       "      <td>11.0</td>\n",
       "      <td>DM_1</td>\n",
       "      <td>457.0</td>\n",
       "      <td>VA</td>\n",
       "      <td>South</td>\n",
       "    </tr>\n",
       "    <tr>\n",
       "      <th>4</th>\n",
       "      <td>2116</td>\n",
       "      <td>30509</td>\n",
       "      <td>15671</td>\n",
       "      <td>8092.92</td>\n",
       "      <td>61614.45</td>\n",
       "      <td>-25134.2250</td>\n",
       "      <td>21.0</td>\n",
       "      <td>Retail</td>\n",
       "      <td>No</td>\n",
       "      <td>11.0</td>\n",
       "      <td>DM_1</td>\n",
       "      <td>457.0</td>\n",
       "      <td>VA</td>\n",
       "      <td>East</td>\n",
       "    </tr>\n",
       "  </tbody>\n",
       "</table>\n",
       "</div>"
      ],
      "text/plain": [
       "  Store_ID  Delivery  Inventory     Sales  Sales_Amount      Shrink  \\\n",
       "0     1253     76861      37665  18922.28     162224.19 -64197.0563   \n",
       "1     1666     31625      16088   7974.63      65985.15 -26757.1809   \n",
       "2     2065     14783       7907   4007.50      32484.37 -15815.2563   \n",
       "3     2065     14783       7907   4007.50      32484.37 -15815.2563   \n",
       "4     2116     30509      15671   8092.92      61614.45 -25134.2250   \n",
       "\n",
       "   Account_Number       Type  PBS  Group    DM     BU State Division  \n",
       "0             5.0     Retail  Yes   11.0  DM_1  433.0    PA     East  \n",
       "1             1.0     Retail  Yes   11.0  DM_1  412.0    NJ    North  \n",
       "2            26.0     Retail   No   11.0  DM_4  433.0    PA    North  \n",
       "3            28.0  Warehouse   No   11.0  DM_1  457.0    VA    South  \n",
       "4            21.0     Retail   No   11.0  DM_1  457.0    VA     East  "
      ]
     },
     "execution_count": 68,
     "metadata": {},
     "output_type": "execute_result"
    }
   ],
   "source": [
    "full_file.head()"
   ]
  },
  {
   "cell_type": "code",
   "execution_count": 69,
   "id": "d5c6a0a9",
   "metadata": {},
   "outputs": [
    {
     "name": "stdout",
     "output_type": "stream",
     "text": [
      "           Shrink\n",
      "DM               \n",
      "DM_1 -410144.1967\n",
      "DM_2 -217368.8314\n",
      "DM_3  -58551.7185\n",
      "DM_4  -73852.4545\n"
     ]
    }
   ],
   "source": [
    "DM =pd.pivot_table(full_file, index=['DM'],values=['Shrink'],aggfunc=np.sum)\n",
    "print(DM)"
   ]
  },
  {
   "cell_type": "markdown",
   "id": "8222365a",
   "metadata": {},
   "source": [
    "## B:  State"
   ]
  },
  {
   "cell_type": "code",
   "execution_count": 70,
   "id": "e4937bd5",
   "metadata": {},
   "outputs": [
    {
     "name": "stdout",
     "output_type": "stream",
     "text": [
      "            Shrink\n",
      "State             \n",
      "CA     -97242.6803\n",
      "NJ     -84471.8018\n",
      "NY    -139748.8834\n",
      "OH    -109869.9745\n",
      "PA    -136373.4595\n",
      "TX     -96984.6946\n",
      "VA     -95225.7070\n"
     ]
    }
   ],
   "source": [
    "State =pd.pivot_table(full_file, index=['State'],values=['Shrink'],aggfunc=np.sum)\n",
    "print(State)"
   ]
  },
  {
   "cell_type": "code",
   "execution_count": null,
   "id": "ba4161f9",
   "metadata": {},
   "outputs": [],
   "source": []
  },
  {
   "cell_type": "markdown",
   "id": "f83df71a",
   "metadata": {},
   "source": [
    "## C: By warehouse, Division"
   ]
  },
  {
   "cell_type": "code",
   "execution_count": 71,
   "id": "5aa1c332",
   "metadata": {},
   "outputs": [
    {
     "name": "stdout",
     "output_type": "stream",
     "text": [
      "            Shrink\n",
      "BU                \n",
      "412.0 -181714.4821\n",
      "422.0 -236733.5780\n",
      "433.0 -136373.4595\n",
      "457.0 -205095.6815\n"
     ]
    }
   ],
   "source": [
    "BU=pd.pivot_table(full_file, index=['BU'],values=['Shrink'],aggfunc=np.sum)\n",
    "print(BU)"
   ]
  },
  {
   "cell_type": "code",
   "execution_count": 72,
   "id": "e3fed2af",
   "metadata": {},
   "outputs": [
    {
     "name": "stdout",
     "output_type": "stream",
     "text": [
      "               Shrink\n",
      "Division             \n",
      "East     -215955.0586\n",
      "North    -203384.4029\n",
      "South    -221955.4073\n",
      "West     -118622.3323\n"
     ]
    }
   ],
   "source": [
    "Division=pd.pivot_table(full_file, index=['Division'],values=['Shrink'],aggfunc=np.sum)\n",
    "print(Division)"
   ]
  },
  {
   "cell_type": "markdown",
   "id": "c67f4673",
   "metadata": {},
   "source": [
    "## D. Best Stores"
   ]
  },
  {
   "cell_type": "code",
   "execution_count": 73,
   "id": "d197c5e7",
   "metadata": {},
   "outputs": [
    {
     "data": {
      "text/html": [
       "<div>\n",
       "<style scoped>\n",
       "    .dataframe tbody tr th:only-of-type {\n",
       "        vertical-align: middle;\n",
       "    }\n",
       "\n",
       "    .dataframe tbody tr th {\n",
       "        vertical-align: top;\n",
       "    }\n",
       "\n",
       "    .dataframe thead th {\n",
       "        text-align: right;\n",
       "    }\n",
       "</style>\n",
       "<table border=\"1\" class=\"dataframe\">\n",
       "  <thead>\n",
       "    <tr style=\"text-align: right;\">\n",
       "      <th></th>\n",
       "      <th>Account</th>\n",
       "      <th>Store</th>\n",
       "      <th>Delivery</th>\n",
       "      <th>Sales</th>\n",
       "      <th>Sales Dollar</th>\n",
       "      <th>Shrink Dollars</th>\n",
       "      <th>Shrink %</th>\n",
       "      <th>Ratio</th>\n",
       "    </tr>\n",
       "  </thead>\n",
       "  <tbody>\n",
       "    <tr>\n",
       "      <th>0</th>\n",
       "      <td>1</td>\n",
       "      <td>592</td>\n",
       "      <td>32271</td>\n",
       "      <td>7822</td>\n",
       "      <td>65745.46</td>\n",
       "      <td>0</td>\n",
       "      <td>0%</td>\n",
       "      <td>24.238480</td>\n",
       "    </tr>\n",
       "    <tr>\n",
       "      <th>1</th>\n",
       "      <td>2</td>\n",
       "      <td>822</td>\n",
       "      <td>14463</td>\n",
       "      <td>3988</td>\n",
       "      <td>34053.33</td>\n",
       "      <td>0</td>\n",
       "      <td>0%</td>\n",
       "      <td>27.573809</td>\n",
       "    </tr>\n",
       "    <tr>\n",
       "      <th>2</th>\n",
       "      <td>3</td>\n",
       "      <td>1253</td>\n",
       "      <td>76861</td>\n",
       "      <td>18922</td>\n",
       "      <td>162224.19</td>\n",
       "      <td>0</td>\n",
       "      <td>0%</td>\n",
       "      <td>24.618467</td>\n",
       "    </tr>\n",
       "    <tr>\n",
       "      <th>3</th>\n",
       "      <td>4</td>\n",
       "      <td>1666</td>\n",
       "      <td>31625</td>\n",
       "      <td>7975</td>\n",
       "      <td>65985.15</td>\n",
       "      <td>0</td>\n",
       "      <td>0%</td>\n",
       "      <td>25.217391</td>\n",
       "    </tr>\n",
       "    <tr>\n",
       "      <th>4</th>\n",
       "      <td>5</td>\n",
       "      <td>2065</td>\n",
       "      <td>14783</td>\n",
       "      <td>4008</td>\n",
       "      <td>32484.37</td>\n",
       "      <td>0</td>\n",
       "      <td>0%</td>\n",
       "      <td>27.112223</td>\n",
       "    </tr>\n",
       "    <tr>\n",
       "      <th>5</th>\n",
       "      <td>6</td>\n",
       "      <td>2116</td>\n",
       "      <td>30509</td>\n",
       "      <td>8093</td>\n",
       "      <td>61614.45</td>\n",
       "      <td>0</td>\n",
       "      <td>0%</td>\n",
       "      <td>26.526599</td>\n",
       "    </tr>\n",
       "    <tr>\n",
       "      <th>24</th>\n",
       "      <td>25</td>\n",
       "      <td>6865</td>\n",
       "      <td>17402</td>\n",
       "      <td>3712</td>\n",
       "      <td>31828.48</td>\n",
       "      <td>3712</td>\n",
       "      <td>46%</td>\n",
       "      <td>21.330882</td>\n",
       "    </tr>\n",
       "    <tr>\n",
       "      <th>8</th>\n",
       "      <td>9</td>\n",
       "      <td>3624</td>\n",
       "      <td>16100</td>\n",
       "      <td>3830</td>\n",
       "      <td>32470.94</td>\n",
       "      <td>3830</td>\n",
       "      <td>14%</td>\n",
       "      <td>23.788820</td>\n",
       "    </tr>\n",
       "    <tr>\n",
       "      <th>19</th>\n",
       "      <td>20</td>\n",
       "      <td>5780</td>\n",
       "      <td>14922</td>\n",
       "      <td>3902</td>\n",
       "      <td>32727.94</td>\n",
       "      <td>3902</td>\n",
       "      <td>36%</td>\n",
       "      <td>26.149310</td>\n",
       "    </tr>\n",
       "    <tr>\n",
       "      <th>16</th>\n",
       "      <td>17</td>\n",
       "      <td>5058</td>\n",
       "      <td>16309</td>\n",
       "      <td>3925</td>\n",
       "      <td>31949.58</td>\n",
       "      <td>3925</td>\n",
       "      <td>30%</td>\n",
       "      <td>24.066466</td>\n",
       "    </tr>\n",
       "  </tbody>\n",
       "</table>\n",
       "</div>"
      ],
      "text/plain": [
       "    Account  Store  Delivery  Sales  Sales Dollar  Shrink Dollars Shrink %  \\\n",
       "0         1    592     32271   7822      65745.46               0       0%   \n",
       "1         2    822     14463   3988      34053.33               0       0%   \n",
       "2         3   1253     76861  18922     162224.19               0       0%   \n",
       "3         4   1666     31625   7975      65985.15               0       0%   \n",
       "4         5   2065     14783   4008      32484.37               0       0%   \n",
       "5         6   2116     30509   8093      61614.45               0       0%   \n",
       "24       25   6865     17402   3712      31828.48            3712      46%   \n",
       "8         9   3624     16100   3830      32470.94            3830      14%   \n",
       "19       20   5780     14922   3902      32727.94            3902      36%   \n",
       "16       17   5058     16309   3925      31949.58            3925      30%   \n",
       "\n",
       "        Ratio  \n",
       "0   24.238480  \n",
       "1   27.573809  \n",
       "2   24.618467  \n",
       "3   25.217391  \n",
       "4   27.112223  \n",
       "5   26.526599  \n",
       "24  21.330882  \n",
       "8   23.788820  \n",
       "19  26.149310  \n",
       "16  24.066466  "
      ]
     },
     "execution_count": 73,
     "metadata": {},
     "output_type": "execute_result"
    }
   ],
   "source": [
    "# These stores are performing the best. \n",
    "# First in shrink Dollars\n",
    "\n",
    "best = shrink_report.sort_values(by='Shrink Dollars', ascending=True)\n",
    "best.head(10)"
   ]
  },
  {
   "cell_type": "code",
   "execution_count": 74,
   "id": "c341d5f7",
   "metadata": {},
   "outputs": [
    {
     "data": {
      "text/html": [
       "<div>\n",
       "<style scoped>\n",
       "    .dataframe tbody tr th:only-of-type {\n",
       "        vertical-align: middle;\n",
       "    }\n",
       "\n",
       "    .dataframe tbody tr th {\n",
       "        vertical-align: top;\n",
       "    }\n",
       "\n",
       "    .dataframe thead th {\n",
       "        text-align: right;\n",
       "    }\n",
       "</style>\n",
       "<table border=\"1\" class=\"dataframe\">\n",
       "  <thead>\n",
       "    <tr style=\"text-align: right;\">\n",
       "      <th></th>\n",
       "      <th>Account</th>\n",
       "      <th>Store</th>\n",
       "      <th>Delivery</th>\n",
       "      <th>Sales</th>\n",
       "      <th>Sales Dollar</th>\n",
       "      <th>Shrink Dollars</th>\n",
       "      <th>Shrink %</th>\n",
       "      <th>Ratio</th>\n",
       "    </tr>\n",
       "  </thead>\n",
       "  <tbody>\n",
       "    <tr>\n",
       "      <th>20</th>\n",
       "      <td>21</td>\n",
       "      <td>6044</td>\n",
       "      <td>32280</td>\n",
       "      <td>7586</td>\n",
       "      <td>65677.75</td>\n",
       "      <td>7586</td>\n",
       "      <td>38%</td>\n",
       "      <td>23.500620</td>\n",
       "    </tr>\n",
       "    <tr>\n",
       "      <th>21</th>\n",
       "      <td>22</td>\n",
       "      <td>6294</td>\n",
       "      <td>46627</td>\n",
       "      <td>11868</td>\n",
       "      <td>98304.06</td>\n",
       "      <td>11868</td>\n",
       "      <td>40%</td>\n",
       "      <td>25.453064</td>\n",
       "    </tr>\n",
       "    <tr>\n",
       "      <th>22</th>\n",
       "      <td>23</td>\n",
       "      <td>6450</td>\n",
       "      <td>16488</td>\n",
       "      <td>4026</td>\n",
       "      <td>32469.71</td>\n",
       "      <td>4026</td>\n",
       "      <td>42%</td>\n",
       "      <td>24.417758</td>\n",
       "    </tr>\n",
       "    <tr>\n",
       "      <th>23</th>\n",
       "      <td>24</td>\n",
       "      <td>6459</td>\n",
       "      <td>29190</td>\n",
       "      <td>7682</td>\n",
       "      <td>65061.79</td>\n",
       "      <td>7682</td>\n",
       "      <td>44%</td>\n",
       "      <td>26.317232</td>\n",
       "    </tr>\n",
       "    <tr>\n",
       "      <th>24</th>\n",
       "      <td>25</td>\n",
       "      <td>6865</td>\n",
       "      <td>17402</td>\n",
       "      <td>3712</td>\n",
       "      <td>31828.48</td>\n",
       "      <td>3712</td>\n",
       "      <td>46%</td>\n",
       "      <td>21.330882</td>\n",
       "    </tr>\n",
       "    <tr>\n",
       "      <th>25</th>\n",
       "      <td>26</td>\n",
       "      <td>7548</td>\n",
       "      <td>30119</td>\n",
       "      <td>8069</td>\n",
       "      <td>65768.94</td>\n",
       "      <td>8069</td>\n",
       "      <td>48%</td>\n",
       "      <td>26.790398</td>\n",
       "    </tr>\n",
       "    <tr>\n",
       "      <th>26</th>\n",
       "      <td>27</td>\n",
       "      <td>8303</td>\n",
       "      <td>16073</td>\n",
       "      <td>3981</td>\n",
       "      <td>33195.44</td>\n",
       "      <td>3981</td>\n",
       "      <td>50%</td>\n",
       "      <td>24.768245</td>\n",
       "    </tr>\n",
       "    <tr>\n",
       "      <th>27</th>\n",
       "      <td>28</td>\n",
       "      <td>8566</td>\n",
       "      <td>14108</td>\n",
       "      <td>3947</td>\n",
       "      <td>31618.03</td>\n",
       "      <td>3947</td>\n",
       "      <td>52%</td>\n",
       "      <td>27.977034</td>\n",
       "    </tr>\n",
       "    <tr>\n",
       "      <th>28</th>\n",
       "      <td>29</td>\n",
       "      <td>9200</td>\n",
       "      <td>15398</td>\n",
       "      <td>4426</td>\n",
       "      <td>34124.90</td>\n",
       "      <td>4426</td>\n",
       "      <td>54%</td>\n",
       "      <td>28.743993</td>\n",
       "    </tr>\n",
       "    <tr>\n",
       "      <th>29</th>\n",
       "      <td>30</td>\n",
       "      <td>9223</td>\n",
       "      <td>30502</td>\n",
       "      <td>7993</td>\n",
       "      <td>64755.21</td>\n",
       "      <td>7993</td>\n",
       "      <td>56%</td>\n",
       "      <td>26.204839</td>\n",
       "    </tr>\n",
       "  </tbody>\n",
       "</table>\n",
       "</div>"
      ],
      "text/plain": [
       "    Account  Store  Delivery  Sales  Sales Dollar  Shrink Dollars Shrink %  \\\n",
       "20       21   6044     32280   7586      65677.75            7586      38%   \n",
       "21       22   6294     46627  11868      98304.06           11868      40%   \n",
       "22       23   6450     16488   4026      32469.71            4026      42%   \n",
       "23       24   6459     29190   7682      65061.79            7682      44%   \n",
       "24       25   6865     17402   3712      31828.48            3712      46%   \n",
       "25       26   7548     30119   8069      65768.94            8069      48%   \n",
       "26       27   8303     16073   3981      33195.44            3981      50%   \n",
       "27       28   8566     14108   3947      31618.03            3947      52%   \n",
       "28       29   9200     15398   4426      34124.90            4426      54%   \n",
       "29       30   9223     30502   7993      64755.21            7993      56%   \n",
       "\n",
       "        Ratio  \n",
       "20  23.500620  \n",
       "21  25.453064  \n",
       "22  24.417758  \n",
       "23  26.317232  \n",
       "24  21.330882  \n",
       "25  26.790398  \n",
       "26  24.768245  \n",
       "27  27.977034  \n",
       "28  28.743993  \n",
       "29  26.204839  "
      ]
     },
     "execution_count": 74,
     "metadata": {},
     "output_type": "execute_result"
    }
   ],
   "source": [
    "#By percentage\n",
    "percentage = shrink_report.sort_values(by='Shrink %', ascending=True)\n",
    "percentage.tail(10)"
   ]
  },
  {
   "cell_type": "markdown",
   "id": "efdc0261",
   "metadata": {},
   "source": [
    "## E. Worst Stores"
   ]
  },
  {
   "cell_type": "code",
   "execution_count": 75,
   "id": "dcca5e6e",
   "metadata": {},
   "outputs": [
    {
     "data": {
      "text/html": [
       "<div>\n",
       "<style scoped>\n",
       "    .dataframe tbody tr th:only-of-type {\n",
       "        vertical-align: middle;\n",
       "    }\n",
       "\n",
       "    .dataframe tbody tr th {\n",
       "        vertical-align: top;\n",
       "    }\n",
       "\n",
       "    .dataframe thead th {\n",
       "        text-align: right;\n",
       "    }\n",
       "</style>\n",
       "<table border=\"1\" class=\"dataframe\">\n",
       "  <thead>\n",
       "    <tr style=\"text-align: right;\">\n",
       "      <th></th>\n",
       "      <th>Account</th>\n",
       "      <th>Store</th>\n",
       "      <th>Delivery</th>\n",
       "      <th>Sales</th>\n",
       "      <th>Sales Dollar</th>\n",
       "      <th>Shrink Dollars</th>\n",
       "      <th>Shrink %</th>\n",
       "      <th>Ratio</th>\n",
       "    </tr>\n",
       "  </thead>\n",
       "  <tbody>\n",
       "    <tr>\n",
       "      <th>20</th>\n",
       "      <td>21</td>\n",
       "      <td>6044</td>\n",
       "      <td>32280</td>\n",
       "      <td>7586</td>\n",
       "      <td>65677.75</td>\n",
       "      <td>7586</td>\n",
       "      <td>38%</td>\n",
       "      <td>23.500620</td>\n",
       "    </tr>\n",
       "    <tr>\n",
       "      <th>17</th>\n",
       "      <td>18</td>\n",
       "      <td>5541</td>\n",
       "      <td>30646</td>\n",
       "      <td>7638</td>\n",
       "      <td>63695.54</td>\n",
       "      <td>7638</td>\n",
       "      <td>32%</td>\n",
       "      <td>24.923318</td>\n",
       "    </tr>\n",
       "    <tr>\n",
       "      <th>23</th>\n",
       "      <td>24</td>\n",
       "      <td>6459</td>\n",
       "      <td>29190</td>\n",
       "      <td>7682</td>\n",
       "      <td>65061.79</td>\n",
       "      <td>7682</td>\n",
       "      <td>44%</td>\n",
       "      <td>26.317232</td>\n",
       "    </tr>\n",
       "    <tr>\n",
       "      <th>7</th>\n",
       "      <td>8</td>\n",
       "      <td>3071</td>\n",
       "      <td>29068</td>\n",
       "      <td>7985</td>\n",
       "      <td>66979.57</td>\n",
       "      <td>7985</td>\n",
       "      <td>12%</td>\n",
       "      <td>27.470070</td>\n",
       "    </tr>\n",
       "    <tr>\n",
       "      <th>29</th>\n",
       "      <td>30</td>\n",
       "      <td>9223</td>\n",
       "      <td>30502</td>\n",
       "      <td>7993</td>\n",
       "      <td>64755.21</td>\n",
       "      <td>7993</td>\n",
       "      <td>56%</td>\n",
       "      <td>26.204839</td>\n",
       "    </tr>\n",
       "    <tr>\n",
       "      <th>25</th>\n",
       "      <td>26</td>\n",
       "      <td>7548</td>\n",
       "      <td>30119</td>\n",
       "      <td>8069</td>\n",
       "      <td>65768.94</td>\n",
       "      <td>8069</td>\n",
       "      <td>48%</td>\n",
       "      <td>26.790398</td>\n",
       "    </tr>\n",
       "    <tr>\n",
       "      <th>11</th>\n",
       "      <td>12</td>\n",
       "      <td>3874</td>\n",
       "      <td>31844</td>\n",
       "      <td>8408</td>\n",
       "      <td>63209.39</td>\n",
       "      <td>8408</td>\n",
       "      <td>20%</td>\n",
       "      <td>26.403718</td>\n",
       "    </tr>\n",
       "    <tr>\n",
       "      <th>18</th>\n",
       "      <td>19</td>\n",
       "      <td>5599</td>\n",
       "      <td>31169</td>\n",
       "      <td>8511</td>\n",
       "      <td>65516.98</td>\n",
       "      <td>8511</td>\n",
       "      <td>34%</td>\n",
       "      <td>27.305977</td>\n",
       "    </tr>\n",
       "    <tr>\n",
       "      <th>21</th>\n",
       "      <td>22</td>\n",
       "      <td>6294</td>\n",
       "      <td>46627</td>\n",
       "      <td>11868</td>\n",
       "      <td>98304.06</td>\n",
       "      <td>11868</td>\n",
       "      <td>40%</td>\n",
       "      <td>25.453064</td>\n",
       "    </tr>\n",
       "    <tr>\n",
       "      <th>12</th>\n",
       "      <td>13</td>\n",
       "      <td>4736</td>\n",
       "      <td>46947</td>\n",
       "      <td>12554</td>\n",
       "      <td>99475.75</td>\n",
       "      <td>12554</td>\n",
       "      <td>22%</td>\n",
       "      <td>26.740793</td>\n",
       "    </tr>\n",
       "  </tbody>\n",
       "</table>\n",
       "</div>"
      ],
      "text/plain": [
       "    Account  Store  Delivery  Sales  Sales Dollar  Shrink Dollars Shrink %  \\\n",
       "20       21   6044     32280   7586      65677.75            7586      38%   \n",
       "17       18   5541     30646   7638      63695.54            7638      32%   \n",
       "23       24   6459     29190   7682      65061.79            7682      44%   \n",
       "7         8   3071     29068   7985      66979.57            7985      12%   \n",
       "29       30   9223     30502   7993      64755.21            7993      56%   \n",
       "25       26   7548     30119   8069      65768.94            8069      48%   \n",
       "11       12   3874     31844   8408      63209.39            8408      20%   \n",
       "18       19   5599     31169   8511      65516.98            8511      34%   \n",
       "21       22   6294     46627  11868      98304.06           11868      40%   \n",
       "12       13   4736     46947  12554      99475.75           12554      22%   \n",
       "\n",
       "        Ratio  \n",
       "20  23.500620  \n",
       "17  24.923318  \n",
       "23  26.317232  \n",
       "7   27.470070  \n",
       "29  26.204839  \n",
       "25  26.790398  \n",
       "11  26.403718  \n",
       "18  27.305977  \n",
       "21  25.453064  \n",
       "12  26.740793  "
      ]
     },
     "execution_count": 75,
     "metadata": {},
     "output_type": "execute_result"
    }
   ],
   "source": [
    "# By shrink Dollars\n",
    "# These should be reviewed in the high risk graphs \n",
    "best.tail(10)"
   ]
  },
  {
   "cell_type": "code",
   "execution_count": 76,
   "id": "50dac240",
   "metadata": {},
   "outputs": [
    {
     "data": {
      "text/html": [
       "<div>\n",
       "<style scoped>\n",
       "    .dataframe tbody tr th:only-of-type {\n",
       "        vertical-align: middle;\n",
       "    }\n",
       "\n",
       "    .dataframe tbody tr th {\n",
       "        vertical-align: top;\n",
       "    }\n",
       "\n",
       "    .dataframe thead th {\n",
       "        text-align: right;\n",
       "    }\n",
       "</style>\n",
       "<table border=\"1\" class=\"dataframe\">\n",
       "  <thead>\n",
       "    <tr style=\"text-align: right;\">\n",
       "      <th></th>\n",
       "      <th>Account</th>\n",
       "      <th>Store</th>\n",
       "      <th>Delivery</th>\n",
       "      <th>Sales</th>\n",
       "      <th>Sales Dollar</th>\n",
       "      <th>Shrink Dollars</th>\n",
       "      <th>Shrink %</th>\n",
       "      <th>Ratio</th>\n",
       "    </tr>\n",
       "  </thead>\n",
       "  <tbody>\n",
       "    <tr>\n",
       "      <th>0</th>\n",
       "      <td>1</td>\n",
       "      <td>592</td>\n",
       "      <td>32271</td>\n",
       "      <td>7822</td>\n",
       "      <td>65745.46</td>\n",
       "      <td>0</td>\n",
       "      <td>0%</td>\n",
       "      <td>24.238480</td>\n",
       "    </tr>\n",
       "    <tr>\n",
       "      <th>1</th>\n",
       "      <td>2</td>\n",
       "      <td>822</td>\n",
       "      <td>14463</td>\n",
       "      <td>3988</td>\n",
       "      <td>34053.33</td>\n",
       "      <td>0</td>\n",
       "      <td>0%</td>\n",
       "      <td>27.573809</td>\n",
       "    </tr>\n",
       "    <tr>\n",
       "      <th>2</th>\n",
       "      <td>3</td>\n",
       "      <td>1253</td>\n",
       "      <td>76861</td>\n",
       "      <td>18922</td>\n",
       "      <td>162224.19</td>\n",
       "      <td>0</td>\n",
       "      <td>0%</td>\n",
       "      <td>24.618467</td>\n",
       "    </tr>\n",
       "    <tr>\n",
       "      <th>3</th>\n",
       "      <td>4</td>\n",
       "      <td>1666</td>\n",
       "      <td>31625</td>\n",
       "      <td>7975</td>\n",
       "      <td>65985.15</td>\n",
       "      <td>0</td>\n",
       "      <td>0%</td>\n",
       "      <td>25.217391</td>\n",
       "    </tr>\n",
       "    <tr>\n",
       "      <th>4</th>\n",
       "      <td>5</td>\n",
       "      <td>2065</td>\n",
       "      <td>14783</td>\n",
       "      <td>4008</td>\n",
       "      <td>32484.37</td>\n",
       "      <td>0</td>\n",
       "      <td>0%</td>\n",
       "      <td>27.112223</td>\n",
       "    </tr>\n",
       "  </tbody>\n",
       "</table>\n",
       "</div>"
      ],
      "text/plain": [
       "   Account  Store  Delivery  Sales  Sales Dollar  Shrink Dollars Shrink %  \\\n",
       "0        1    592     32271   7822      65745.46               0       0%   \n",
       "1        2    822     14463   3988      34053.33               0       0%   \n",
       "2        3   1253     76861  18922     162224.19               0       0%   \n",
       "3        4   1666     31625   7975      65985.15               0       0%   \n",
       "4        5   2065     14783   4008      32484.37               0       0%   \n",
       "\n",
       "       Ratio  \n",
       "0  24.238480  \n",
       "1  27.573809  \n",
       "2  24.618467  \n",
       "3  25.217391  \n",
       "4  27.112223  "
      ]
     },
     "execution_count": 76,
     "metadata": {},
     "output_type": "execute_result"
    }
   ],
   "source": [
    "percentage.head()"
   ]
  },
  {
   "cell_type": "markdown",
   "id": "650985e3",
   "metadata": {},
   "source": [
    "# Section 8: High Risk/ High Shrink"
   ]
  },
  {
   "cell_type": "markdown",
   "id": "4b37c5ae",
   "metadata": {},
   "source": [
    "## A: Outliers\n",
    "#### Any other outliers can be looked at in one of the graphs above by chaging the store lists. "
   ]
  },
  {
   "cell_type": "markdown",
   "id": "766b3e63",
   "metadata": {},
   "source": [
    "## B: Oddities & Interests"
   ]
  },
  {
   "cell_type": "code",
   "execution_count": 77,
   "id": "75c5a232",
   "metadata": {},
   "outputs": [],
   "source": [
    "# Examine stores with low DOS, and count zero sales days\n",
    "def lines(df, customer_number):\n",
    "   \n",
    "    idx = pd.date_range(start = Start_Date ,end =  End_Date)\n",
    "    \n",
    "    df = df[df['Store_ID'] == customer_number]\n",
    "    \n",
    "    df=pd.pivot_table(df, index=['Sale_Date'],values=['Sales', 'Delivery', 'Inventory'],aggfunc=np.sum)\n",
    "        \n",
    "    df.index = pd.DatetimeIndex(df.index)\n",
    "    \n",
    "    df = df.reindex(idx, fill_value=0)\n",
    "    \n",
    "    df.plot()\n",
    "    plt.title(customer_number, fontsize = 14) \n",
    "    plt.xticks(rotation=90)\n",
    "    plt.rcParams[\"figure.figsize\"] = (7,3.5)\n",
    "    plt.show()\n",
    "    \n",
    "   \n",
    "    "
   ]
  },
  {
   "cell_type": "code",
   "execution_count": 78,
   "id": "2c9010f6",
   "metadata": {},
   "outputs": [
    {
     "data": {
      "image/png": "[encoded data removed]",
      "text/plain": [
       "<Figure size 504x252 with 1 Axes>"
      ]
     },
     "metadata": {
      "needs_background": "light"
     },
     "output_type": "display_data"
    },
    {
     "data": {
      "image/png": "[encoded data removed]",
      "text/plain": [
       "<Figure size 504x252 with 1 Axes>"
      ]
     },
     "metadata": {
      "needs_background": "light"
     },
     "output_type": "display_data"
    }
   ],
   "source": [
    "high_risk_list2 = ['1666','4736']\n",
    "for risk in high_risk_list2:\n",
    "    lines(df, risk)\n",
    "\n"
   ]
  },
  {
   "cell_type": "markdown",
   "id": "9d40586b",
   "metadata": {},
   "source": [
    "## C: Highest by Percentages\n",
    "#### Re-run above with highest shrink percentage stores if needed. "
   ]
  },
  {
   "cell_type": "markdown",
   "id": "8ddc4829",
   "metadata": {},
   "source": [
    "# Section 9: Other"
   ]
  },
  {
   "cell_type": "markdown",
   "id": "936b8da1",
   "metadata": {},
   "source": [
    "## A: Equipment Maintenance\n",
    "#### Review open tickets for equipment maintenance\n",
    "## B: Accounting/ Payment Issues\n",
    "#### Talk to accounting for any issues and help to resolve payment\n",
    "## C: Process\n",
    "#### Find out the process: How do scans/ deliveries get in the system? What is the lag? Who is responsible? Are there any gaps? \n"
   ]
  }
 ],
 "metadata": {
  "kernelspec": {
   "display_name": "Python 3 (ipykernel)",
   "language": "python",
   "name": "python3"
  },
  "language_info": {
   "codemirror_mode": {
    "name": "ipython",
    "version": 3
   },
   "file_extension": ".py",
   "mimetype": "text/x-python",
   "name": "python",
   "nbconvert_exporter": "python",
   "pygments_lexer": "ipython3",
   "version": "3.9.7"
  }
 },
 "nbformat": 4,
 "nbformat_minor": 5
}
