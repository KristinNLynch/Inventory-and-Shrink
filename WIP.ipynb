{
 "cells": [
  {
   "cell_type": "code",
   "execution_count": 79,
   "id": "bf67e651",
   "metadata": {},
   "outputs": [],
   "source": [
    "import pandas as pd\n",
    "import unicodecsv\n",
    "import matplotlib as plt"
   ]
  },
  {
   "cell_type": "code",
   "execution_count": 64,
   "id": "e5c8d54c",
   "metadata": {},
   "outputs": [],
   "source": [
    "transactions_file = '/Users/knico/new-git-project/transaction.csv'\n"
   ]
  },
  {
   "cell_type": "code",
   "execution_count": 65,
   "id": "d84d6f65",
   "metadata": {},
   "outputs": [
    {
     "name": "stdout",
     "output_type": "stream",
     "text": [
      "    Order Sale_Date      Type  Store_ID  Transaction_ID  SKU  Quantity  \\\n",
      "0  133429  2/2/2021  Delivery      1666             866  1TS     230.0   \n",
      "1  132970  2/3/2021  Delivery      4736             624  R6E     372.0   \n",
      "2  132685  2/4/2021  Delivery      6459             482  IEV     298.0   \n",
      "3  133327  2/5/2021  Delivery      3719             810  C8Z     466.0   \n",
      "4  133115  2/6/2021  Delivery      1253             708  8HU     360.0   \n",
      "\n",
      "   Sales_Amount  Inventory  \n",
      "0         37.38        156  \n",
      "1          2.06        253  \n",
      "2          4.96         82  \n",
      "3          8.88        453  \n",
      "4          2.76          8  \n"
     ]
    }
   ],
   "source": [
    "df = pd.read_csv(transactions_file)\n",
    "print(df.head())\n",
    "    \n",
    "    "
   ]
  },
  {
   "cell_type": "code",
   "execution_count": 66,
   "id": "4932f483",
   "metadata": {},
   "outputs": [
    {
     "name": "stdout",
     "output_type": "stream",
     "text": [
      "<class 'pandas.core.frame.DataFrame'>\n",
      "RangeIndex: 133635 entries, 0 to 133634\n",
      "Data columns (total 9 columns):\n",
      " #   Column          Non-Null Count   Dtype  \n",
      "---  ------          --------------   -----  \n",
      " 0   Order           133635 non-null  int64  \n",
      " 1   Sale_Date       133635 non-null  object \n",
      " 2   Type            133635 non-null  object \n",
      " 3   Store_ID        133635 non-null  int64  \n",
      " 4   Transaction_ID  133635 non-null  int64  \n",
      " 5   SKU             133635 non-null  object \n",
      " 6   Quantity        133635 non-null  float64\n",
      " 7   Sales_Amount    133635 non-null  float64\n",
      " 8   Inventory       133635 non-null  int64  \n",
      "dtypes: float64(2), int64(4), object(3)\n",
      "memory usage: 9.2+ MB\n"
     ]
    }
   ],
   "source": [
    "df.info()"
   ]
  },
  {
   "cell_type": "code",
   "execution_count": 67,
   "id": "8138a684",
   "metadata": {},
   "outputs": [],
   "source": [
    "def drop_columns(col_name):\n",
    "    if col_name in df:\n",
    "        df.drop(labels=col_name,axis=1 , inplace = True)\n",
    "    else: \n",
    "        print(col_name ,\"does not exist\")\n",
    "    "
   ]
  },
  {
   "cell_type": "code",
   "execution_count": 68,
   "id": "2bdc76b5",
   "metadata": {},
   "outputs": [],
   "source": [
    "drop_columns('Order')"
   ]
  },
  {
   "cell_type": "code",
   "execution_count": 69,
   "id": "c7c76dfd",
   "metadata": {},
   "outputs": [],
   "source": [
    "# This function will convert the data types\n",
    "def change_var_type(col_as_string, ctype):\n",
    "    if ctype == 'string':\n",
    "        new_type = df[col_as_string].astype(\"|S\")\n",
    "    if ctype == 'number':\n",
    "        new_type = df[col_as_string].astype(int)\n",
    "    return new_type"
   ]
  },
  {
   "cell_type": "code",
   "execution_count": 70,
   "id": "875900f2",
   "metadata": {},
   "outputs": [],
   "source": [
    "\n",
    "df['Store_ID'] = change_var_type('Store_ID','string')\n",
    "df['Transaction_ID']= change_var_type('Transaction_ID','string')"
   ]
  },
  {
   "cell_type": "code",
   "execution_count": 71,
   "id": "7439115e",
   "metadata": {},
   "outputs": [
    {
     "data": {
      "text/html": [
       "<div>\n",
       "<style scoped>\n",
       "    .dataframe tbody tr th:only-of-type {\n",
       "        vertical-align: middle;\n",
       "    }\n",
       "\n",
       "    .dataframe tbody tr th {\n",
       "        vertical-align: top;\n",
       "    }\n",
       "\n",
       "    .dataframe thead th {\n",
       "        text-align: right;\n",
       "    }\n",
       "</style>\n",
       "<table border=\"1\" class=\"dataframe\">\n",
       "  <thead>\n",
       "    <tr style=\"text-align: right;\">\n",
       "      <th></th>\n",
       "      <th>Quantity</th>\n",
       "      <th>Sales_Amount</th>\n",
       "      <th>Inventory</th>\n",
       "    </tr>\n",
       "  </thead>\n",
       "  <tbody>\n",
       "    <tr>\n",
       "      <th>count</th>\n",
       "      <td>133635.000000</td>\n",
       "      <td>133635.000000</td>\n",
       "      <td>133635.000000</td>\n",
       "    </tr>\n",
       "    <tr>\n",
       "      <th>mean</th>\n",
       "      <td>7.178220</td>\n",
       "      <td>11.947653</td>\n",
       "      <td>2.796805</td>\n",
       "    </tr>\n",
       "    <tr>\n",
       "      <th>std</th>\n",
       "      <td>49.274735</td>\n",
       "      <td>19.306320</td>\n",
       "      <td>28.038712</td>\n",
       "    </tr>\n",
       "    <tr>\n",
       "      <th>min</th>\n",
       "      <td>0.010000</td>\n",
       "      <td>0.020000</td>\n",
       "      <td>0.000000</td>\n",
       "    </tr>\n",
       "    <tr>\n",
       "      <th>25%</th>\n",
       "      <td>1.000000</td>\n",
       "      <td>4.230000</td>\n",
       "      <td>0.000000</td>\n",
       "    </tr>\n",
       "    <tr>\n",
       "      <th>50%</th>\n",
       "      <td>1.000000</td>\n",
       "      <td>6.920000</td>\n",
       "      <td>0.000000</td>\n",
       "    </tr>\n",
       "    <tr>\n",
       "      <th>75%</th>\n",
       "      <td>1.000000</td>\n",
       "      <td>12.320000</td>\n",
       "      <td>0.000000</td>\n",
       "    </tr>\n",
       "    <tr>\n",
       "      <th>max</th>\n",
       "      <td>1000.000000</td>\n",
       "      <td>707.730000</td>\n",
       "      <td>947.000000</td>\n",
       "    </tr>\n",
       "  </tbody>\n",
       "</table>\n",
       "</div>"
      ],
      "text/plain": [
       "            Quantity   Sales_Amount      Inventory\n",
       "count  133635.000000  133635.000000  133635.000000\n",
       "mean        7.178220      11.947653       2.796805\n",
       "std        49.274735      19.306320      28.038712\n",
       "min         0.010000       0.020000       0.000000\n",
       "25%         1.000000       4.230000       0.000000\n",
       "50%         1.000000       6.920000       0.000000\n",
       "75%         1.000000      12.320000       0.000000\n",
       "max      1000.000000     707.730000     947.000000"
      ]
     },
     "execution_count": 71,
     "metadata": {},
     "output_type": "execute_result"
    }
   ],
   "source": [
    "#Basic statistics on the dataframe\n",
    "df.describe()\n"
   ]
  },
  {
   "cell_type": "code",
   "execution_count": 55,
   "id": "9dc02ea6",
   "metadata": {},
   "outputs": [
    {
     "name": "stdout",
     "output_type": "stream",
     "text": [
      "Store_ID\n",
      "b'1253'    162224.19\n",
      "b'1666'     65985.15\n",
      "b'2065'     32484.37\n",
      "b'2116'     61614.45\n",
      "b'2547'     32720.51\n",
      "b'3071'     66979.57\n",
      "b'3624'     32470.94\n",
      "b'3686'     31406.65\n",
      "b'3719'     32253.04\n",
      "b'3874'     63209.39\n",
      "b'4736'     99475.75\n",
      "b'4776'     33977.25\n",
      "b'4921'     31312.84\n",
      "b'5010'     34017.36\n",
      "b'5058'     31949.58\n",
      "b'5541'     63695.54\n",
      "b'5599'     65516.98\n",
      "b'5780'     32727.94\n",
      "b'592'      65745.46\n",
      "b'6044'     65677.75\n",
      "b'6294'     98304.06\n",
      "b'6450'     32469.71\n",
      "b'6459'     65061.79\n",
      "b'6865'     31828.48\n",
      "b'7548'     65768.94\n",
      "b'822'      34053.33\n",
      "b'8303'     33195.44\n",
      "b'8566'     31618.03\n",
      "b'9200'     34124.90\n",
      "b'9223'     64755.21\n",
      "Name: Sales_Amount, dtype: float64\n"
     ]
    }
   ],
   "source": [
    "#Add up the Sales by Location\n",
    "data = df.groupby(['Store_ID']).sum()['Sales_Amount']\n",
    "print(data)"
   ]
  },
  {
   "cell_type": "code",
   "execution_count": 76,
   "id": "49e8b370",
   "metadata": {},
   "outputs": [
    {
     "name": "stdout",
     "output_type": "stream",
     "text": [
      "Sale_Date  Type    \n",
      "1/1/2021   Delivery    2358.00\n",
      "           Sale         580.00\n",
      "1/10/2021  Delivery    2938.00\n",
      "           Sale         533.25\n",
      "1/11/2021  Delivery    1308.00\n",
      "                        ...   \n",
      "9/7/2021   Sale         509.20\n",
      "9/8/2021   Delivery    3858.00\n",
      "           Sale         573.33\n",
      "9/9/2021   Delivery    1803.00\n",
      "           Sale         543.33\n",
      "Name: Quantity, Length: 728, dtype: float64\n"
     ]
    }
   ],
   "source": [
    "# View the sales and deliveries by date\n",
    "date_volume = df.groupby(['Sale_Date','Type']).sum()['Quantity']\n",
    "print(date_volume)\n"
   ]
  },
  {
   "cell_type": "code",
   "execution_count": 84,
   "id": "a95cd3ea",
   "metadata": {},
   "outputs": [
    {
     "data": {
      "image/png": "[encoded data removed]",
      "text/plain": [
       "<Figure size 432x288 with 1 Axes>"
      ]
     },
     "metadata": {
      "needs_background": "light"
     },
     "output_type": "display_data"
    }
   ],
   "source": [
    "date_volume.plot()\n",
    "plt.pyplot.xticks(rotation=300)\n",
    "plt.pyplot.show()\n"
   ]
  },
  {
   "cell_type": "code",
   "execution_count": null,
   "id": "aa738031",
   "metadata": {},
   "outputs": [],
   "source": []
  }
 ],
 "metadata": {
  "kernelspec": {
   "display_name": "Python 3 (ipykernel)",
   "language": "python",
   "name": "python3"
  },
  "language_info": {
   "codemirror_mode": {
    "name": "ipython",
    "version": 3
   },
   "file_extension": ".py",
   "mimetype": "text/x-python",
   "name": "python",
   "nbconvert_exporter": "python",
   "pygments_lexer": "ipython3",
   "version": "3.9.7"
  }
 },
 "nbformat": 4,
 "nbformat_minor": 5
}
